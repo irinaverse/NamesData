{
 "cells": [
  {
   "cell_type": "code",
   "execution_count": 1,
   "id": "160edd09",
   "metadata": {},
   "outputs": [],
   "source": [
    "%matplotlib inline"
   ]
  },
  {
   "cell_type": "code",
   "execution_count": 2,
   "id": "8737fb29",
   "metadata": {},
   "outputs": [],
   "source": [
    "import re\n",
    "import numpy as np\n",
    "import pandas as pd\n",
    "import matplotlib.pyplot as plt"
   ]
  },
  {
   "cell_type": "markdown",
   "id": "4f0d8cfa",
   "metadata": {},
   "source": [
    "<p style = \"font-size: 13px; text-align: right; color: darkslategray\" > document design: Irina Nedyalkova <br /> inedyalkova152025@gmail.com"
   ]
  },
  {
   "cell_type": "markdown",
   "id": "20a8d530",
   "metadata": {},
   "source": [
    "<p style = \"font-size: 24px; text-align: center; color: darkslategray\" > My name is..."
   ]
  },
  {
   "cell_type": "markdown",
   "id": "e54d3847",
   "metadata": {},
   "source": [
    "The name of a human, a company or a project carries energy. We have the energy of sound (the spoken word), written energy (as the logo) and the energy of our ancestors (resides in our DNA). We have some sacred energy transiting when a man offers his name to a woman and she accepts it. We have the giving of a name to a newborn and the giving of a name to a start-up. It turns out we give life to people, commitments and ideas. "
   ]
  },
  {
   "cell_type": "markdown",
   "id": "2a0d7c8a",
   "metadata": {},
   "source": [
    "I start with 2943 male names, collected in a file by Mark Kantrowitz (copyrighted set, see References). Following with female names."
   ]
  },
  {
   "cell_type": "code",
   "execution_count": 3,
   "id": "b6b043d7",
   "metadata": {},
   "outputs": [],
   "source": [
    "column_names_m = [\"names_m\"]\n",
    "df_male_names = pd.read_csv(\"male.txt\", names = column_names_m)"
   ]
  },
  {
   "cell_type": "code",
   "execution_count": 4,
   "id": "7a50b8f1",
   "metadata": {},
   "outputs": [
    {
     "data": {
      "text/html": [
       "<div>\n",
       "<style scoped>\n",
       "    .dataframe tbody tr th:only-of-type {\n",
       "        vertical-align: middle;\n",
       "    }\n",
       "\n",
       "    .dataframe tbody tr th {\n",
       "        vertical-align: top;\n",
       "    }\n",
       "\n",
       "    .dataframe thead th {\n",
       "        text-align: right;\n",
       "    }\n",
       "</style>\n",
       "<table border=\"1\" class=\"dataframe\">\n",
       "  <thead>\n",
       "    <tr style=\"text-align: right;\">\n",
       "      <th></th>\n",
       "      <th>names_m</th>\n",
       "    </tr>\n",
       "  </thead>\n",
       "  <tbody>\n",
       "    <tr>\n",
       "      <th>0</th>\n",
       "      <td>Aamir</td>\n",
       "    </tr>\n",
       "    <tr>\n",
       "      <th>1</th>\n",
       "      <td>Aaron</td>\n",
       "    </tr>\n",
       "    <tr>\n",
       "      <th>2</th>\n",
       "      <td>Abbey</td>\n",
       "    </tr>\n",
       "    <tr>\n",
       "      <th>3</th>\n",
       "      <td>Abbie</td>\n",
       "    </tr>\n",
       "    <tr>\n",
       "      <th>4</th>\n",
       "      <td>Abbot</td>\n",
       "    </tr>\n",
       "    <tr>\n",
       "      <th>...</th>\n",
       "      <td>...</td>\n",
       "    </tr>\n",
       "    <tr>\n",
       "      <th>2938</th>\n",
       "      <td>Zeus</td>\n",
       "    </tr>\n",
       "    <tr>\n",
       "      <th>2939</th>\n",
       "      <td>Zippy</td>\n",
       "    </tr>\n",
       "    <tr>\n",
       "      <th>2940</th>\n",
       "      <td>Zollie</td>\n",
       "    </tr>\n",
       "    <tr>\n",
       "      <th>2941</th>\n",
       "      <td>Zolly</td>\n",
       "    </tr>\n",
       "    <tr>\n",
       "      <th>2942</th>\n",
       "      <td>Zorro</td>\n",
       "    </tr>\n",
       "  </tbody>\n",
       "</table>\n",
       "<p>2943 rows × 1 columns</p>\n",
       "</div>"
      ],
      "text/plain": [
       "     names_m\n",
       "0      Aamir\n",
       "1      Aaron\n",
       "2      Abbey\n",
       "3      Abbie\n",
       "4      Abbot\n",
       "...      ...\n",
       "2938    Zeus\n",
       "2939   Zippy\n",
       "2940  Zollie\n",
       "2941   Zolly\n",
       "2942   Zorro\n",
       "\n",
       "[2943 rows x 1 columns]"
      ]
     },
     "execution_count": 4,
     "metadata": {},
     "output_type": "execute_result"
    }
   ],
   "source": [
    "df_male_names                # df is a DataFrame, just a name is a variable"
   ]
  },
  {
   "cell_type": "markdown",
   "id": "452f6299",
   "metadata": {},
   "source": [
    "Decide to separate the name column and work with it:"
   ]
  },
  {
   "cell_type": "code",
   "execution_count": 5,
   "id": "daa7dc6b",
   "metadata": {},
   "outputs": [],
   "source": [
    "column_names_m = df_male_names.names_m"
   ]
  },
  {
   "cell_type": "markdown",
   "id": "455137cb",
   "metadata": {},
   "source": [
    "I use regex, means Regular Expressions for searching and manipulating text strings, to note all names accordingly to their beginning letter (initial)."
   ]
  },
  {
   "cell_type": "code",
   "execution_count": 6,
   "id": "dcd6422a",
   "metadata": {},
   "outputs": [
    {
     "data": {
      "text/plain": [
       "(213, 1)"
      ]
     },
     "execution_count": 6,
     "metadata": {},
     "output_type": "execute_result"
    }
   ],
   "source": [
    "column_names_m.str.extractall(r\"(^A)+\").groupby(level = 0).agg(\" \".join).shape"
   ]
  },
  {
   "cell_type": "code",
   "execution_count": 7,
   "id": "7e31d9bc",
   "metadata": {},
   "outputs": [
    {
     "data": {
      "text/plain": [
       "(173, 1)"
      ]
     },
     "execution_count": 7,
     "metadata": {},
     "output_type": "execute_result"
    }
   ],
   "source": [
    "column_names_m.str.extractall(r\"(^B)+\").groupby(level = 0).agg(\" \".join).shape"
   ]
  },
  {
   "cell_type": "code",
   "execution_count": 8,
   "id": "f15f0436",
   "metadata": {},
   "outputs": [
    {
     "data": {
      "text/plain": [
       "(166, 1)"
      ]
     },
     "execution_count": 8,
     "metadata": {},
     "output_type": "execute_result"
    }
   ],
   "source": [
    "column_names_m.str.extractall(r\"(^C)+\").groupby(level = 0).agg(\" \".join).shape"
   ]
  },
  {
   "cell_type": "code",
   "execution_count": 9,
   "id": "487c005c",
   "metadata": {},
   "outputs": [
    {
     "data": {
      "text/plain": [
       "(146, 1)"
      ]
     },
     "execution_count": 9,
     "metadata": {},
     "output_type": "execute_result"
    }
   ],
   "source": [
    "column_names_m.str.extractall(r\"(^D)+\").groupby(level = 0).agg(\" \".join).shape"
   ]
  },
  {
   "cell_type": "code",
   "execution_count": 10,
   "id": "f326c17b",
   "metadata": {},
   "outputs": [
    {
     "data": {
      "text/plain": [
       "(119, 1)"
      ]
     },
     "execution_count": 10,
     "metadata": {},
     "output_type": "execute_result"
    }
   ],
   "source": [
    "column_names_m.str.extractall(r\"(^E)+\").groupby(level = 0).agg(\" \".join).shape"
   ]
  },
  {
   "cell_type": "code",
   "execution_count": 11,
   "id": "c016946f",
   "metadata": {},
   "outputs": [
    {
     "data": {
      "text/plain": [
       "(87, 1)"
      ]
     },
     "execution_count": 11,
     "metadata": {},
     "output_type": "execute_result"
    }
   ],
   "source": [
    "column_names_m.str.extractall(r\"(^F)+\").groupby(level = 0).agg(\" \".join).shape"
   ]
  },
  {
   "cell_type": "code",
   "execution_count": 12,
   "id": "c539ca35",
   "metadata": {},
   "outputs": [
    {
     "data": {
      "text/plain": [
       "(156, 1)"
      ]
     },
     "execution_count": 12,
     "metadata": {},
     "output_type": "execute_result"
    }
   ],
   "source": [
    "column_names_m.str.extractall(r\"(^G)+\").groupby(level = 0).agg(\" \".join).shape"
   ]
  },
  {
   "cell_type": "code",
   "execution_count": 13,
   "id": "73799a4b",
   "metadata": {},
   "outputs": [
    {
     "data": {
      "text/plain": [
       "(163, 1)"
      ]
     },
     "execution_count": 13,
     "metadata": {},
     "output_type": "execute_result"
    }
   ],
   "source": [
    "column_names_m.str.extractall(r\"(^H)+\").groupby(level = 0).agg(\" \".join).shape"
   ]
  },
  {
   "cell_type": "code",
   "execution_count": 14,
   "id": "26b0edf2",
   "metadata": {},
   "outputs": [
    {
     "data": {
      "text/plain": [
       "(45, 1)"
      ]
     },
     "execution_count": 14,
     "metadata": {},
     "output_type": "execute_result"
    }
   ],
   "source": [
    "column_names_m.str.extractall(r\"(^I)+\").groupby(level = 0).agg(\" \".join).shape"
   ]
  },
  {
   "cell_type": "code",
   "execution_count": 15,
   "id": "2d68e412",
   "metadata": {},
   "outputs": [
    {
     "data": {
      "text/plain": [
       "(144, 1)"
      ]
     },
     "execution_count": 15,
     "metadata": {},
     "output_type": "execute_result"
    }
   ],
   "source": [
    "column_names_m.str.extractall(r\"(^J)+\").groupby(level = 0).agg(\" \".join).shape"
   ]
  },
  {
   "cell_type": "code",
   "execution_count": 16,
   "id": "756f98b2",
   "metadata": {},
   "outputs": [
    {
     "data": {
      "text/plain": [
       "(70, 1)"
      ]
     },
     "execution_count": 16,
     "metadata": {},
     "output_type": "execute_result"
    }
   ],
   "source": [
    "column_names_m.str.extractall(r\"(^K)+\").groupby(level = 0).agg(\" \".join).shape"
   ]
  },
  {
   "cell_type": "code",
   "execution_count": 17,
   "id": "337e759e",
   "metadata": {},
   "outputs": [
    {
     "data": {
      "text/plain": [
       "(113, 1)"
      ]
     },
     "execution_count": 17,
     "metadata": {},
     "output_type": "execute_result"
    }
   ],
   "source": [
    "column_names_m.str.extractall(r\"(^L)+\").groupby(level = 0).agg(\" \".join).shape"
   ]
  },
  {
   "cell_type": "code",
   "execution_count": 18,
   "id": "e58ed58d",
   "metadata": {},
   "outputs": [
    {
     "data": {
      "text/plain": [
       "(200, 1)"
      ]
     },
     "execution_count": 18,
     "metadata": {},
     "output_type": "execute_result"
    }
   ],
   "source": [
    "column_names_m.str.extractall(r\"(^M)+\").groupby(level = 0).agg(\" \".join).shape"
   ]
  },
  {
   "cell_type": "code",
   "execution_count": 19,
   "id": "8f9ab4b8",
   "metadata": {},
   "outputs": [
    {
     "data": {
      "text/plain": [
       "(77, 1)"
      ]
     },
     "execution_count": 19,
     "metadata": {},
     "output_type": "execute_result"
    }
   ],
   "source": [
    "column_names_m.str.extractall(r\"(^N)+\").groupby(level = 0).agg(\" \".join).shape"
   ]
  },
  {
   "cell_type": "code",
   "execution_count": 20,
   "id": "a8cd8080",
   "metadata": {},
   "outputs": [
    {
     "data": {
      "text/plain": [
       "(52, 1)"
      ]
     },
     "execution_count": 20,
     "metadata": {},
     "output_type": "execute_result"
    }
   ],
   "source": [
    "column_names_m.str.extractall(r\"(^O)+\").groupby(level = 0).agg(\" \".join).shape"
   ]
  },
  {
   "cell_type": "code",
   "execution_count": 21,
   "id": "a66adc78",
   "metadata": {},
   "outputs": [
    {
     "data": {
      "text/plain": [
       "(101, 1)"
      ]
     },
     "execution_count": 21,
     "metadata": {},
     "output_type": "execute_result"
    }
   ],
   "source": [
    "column_names_m.str.extractall(r\"(^P)+\").groupby(level = 0).agg(\" \".join).shape"
   ]
  },
  {
   "cell_type": "code",
   "execution_count": 22,
   "id": "66bb8bf8",
   "metadata": {},
   "outputs": [
    {
     "data": {
      "text/plain": [
       "(15, 1)"
      ]
     },
     "execution_count": 22,
     "metadata": {},
     "output_type": "execute_result"
    }
   ],
   "source": [
    "column_names_m.str.extractall(r\"(^Q)+\").groupby(level = 0).agg(\" \".join).shape"
   ]
  },
  {
   "cell_type": "code",
   "execution_count": 23,
   "id": "928267b6",
   "metadata": {},
   "outputs": [
    {
     "data": {
      "text/plain": [
       "(200, 1)"
      ]
     },
     "execution_count": 23,
     "metadata": {},
     "output_type": "execute_result"
    }
   ],
   "source": [
    "column_names_m.str.extractall(r\"(^R)+\").groupby(level = 0).agg(\" \".join).shape"
   ]
  },
  {
   "cell_type": "code",
   "execution_count": 24,
   "id": "b17e8c29",
   "metadata": {},
   "outputs": [
    {
     "data": {
      "text/plain": [
       "(238, 1)"
      ]
     },
     "execution_count": 24,
     "metadata": {},
     "output_type": "execute_result"
    }
   ],
   "source": [
    "column_names_m.str.extractall(r\"(^S)+\").groupby(level = 0).agg(\" \".join).shape"
   ]
  },
  {
   "cell_type": "code",
   "execution_count": 25,
   "id": "52faab44",
   "metadata": {},
   "outputs": [
    {
     "data": {
      "text/plain": [
       "(188, 1)"
      ]
     },
     "execution_count": 25,
     "metadata": {},
     "output_type": "execute_result"
    }
   ],
   "source": [
    "column_names_m.str.extractall(r\"(^T)+\").groupby(level = 0).agg(\" \".join).shape"
   ]
  },
  {
   "cell_type": "code",
   "execution_count": 26,
   "id": "6fbcffde",
   "metadata": {},
   "outputs": [
    {
     "data": {
      "text/plain": [
       "(22, 1)"
      ]
     },
     "execution_count": 26,
     "metadata": {},
     "output_type": "execute_result"
    }
   ],
   "source": [
    "column_names_m.str.extractall(r\"(^U)+\").groupby(level = 0).agg(\" \".join).shape"
   ]
  },
  {
   "cell_type": "code",
   "execution_count": 27,
   "id": "31164b3d",
   "metadata": {},
   "outputs": [
    {
     "data": {
      "text/plain": [
       "(50, 1)"
      ]
     },
     "execution_count": 27,
     "metadata": {},
     "output_type": "execute_result"
    }
   ],
   "source": [
    "column_names_m.str.extractall(r\"(^V)+\").groupby(level = 0).agg(\" \".join).shape"
   ]
  },
  {
   "cell_type": "code",
   "execution_count": 28,
   "id": "8278da1e",
   "metadata": {},
   "outputs": [
    {
     "data": {
      "text/plain": [
       "(151, 1)"
      ]
     },
     "execution_count": 28,
     "metadata": {},
     "output_type": "execute_result"
    }
   ],
   "source": [
    "column_names_m.str.extractall(r\"(^W)+\").groupby(level = 0).agg(\" \".join).shape"
   ]
  },
  {
   "cell_type": "code",
   "execution_count": 29,
   "id": "3fb6ecb9",
   "metadata": {},
   "outputs": [
    {
     "data": {
      "text/plain": [
       "(7, 1)"
      ]
     },
     "execution_count": 29,
     "metadata": {},
     "output_type": "execute_result"
    }
   ],
   "source": [
    "column_names_m.str.extractall(r\"(^X)+\").groupby(level = 0).agg(\" \".join).shape"
   ]
  },
  {
   "cell_type": "code",
   "execution_count": 30,
   "id": "f3036ce2",
   "metadata": {},
   "outputs": [
    {
     "data": {
      "text/plain": [
       "(16, 1)"
      ]
     },
     "execution_count": 30,
     "metadata": {},
     "output_type": "execute_result"
    }
   ],
   "source": [
    "column_names_m.str.extractall(r\"(^Y)+\").groupby(level = 0).agg(\" \".join).shape"
   ]
  },
  {
   "cell_type": "code",
   "execution_count": 31,
   "id": "f38535b4",
   "metadata": {},
   "outputs": [
    {
     "data": {
      "text/plain": [
       "(31, 1)"
      ]
     },
     "execution_count": 31,
     "metadata": {},
     "output_type": "execute_result"
    }
   ],
   "source": [
    "column_names_m.str.extractall(r\"(^Z)+\").groupby(level = 0).agg(\" \".join).shape"
   ]
  },
  {
   "cell_type": "markdown",
   "id": "35b4b521",
   "metadata": {},
   "source": [
    "In alphabetical order the dataset includes:\n",
    "- male names, starting with an A: 213\n",
    "- male names, starting with a B: 173\n",
    "- male names, starting with C: 166\n",
    "- male names, starting with D: 146\n",
    "- male names, starting with E: 119\n",
    "- male names, starting with F: 87\n",
    "- male names, starting with G: 156\n",
    "- male names, starting with H: 163\n",
    "- male names, starting with an I: 45\n",
    "- male names, starting wih an J: 144\n",
    "- male names, starting with K: 70\n",
    "- male names, starting with L: 113\n",
    "- male names, starting with M: 200\n",
    "- male names, starting with N: 77\n",
    "- male names, starting with an O: 52\n",
    "- male names, starting with a P: 101\n",
    "- male names, starting with Q: 15\n",
    "- male names, starting with R: 200\n",
    "- male names, starting with S: 238\n",
    "- male names, starting with T: 188\n",
    "- male names, starting with an U: 22\n",
    "- male names, starting with a V: 50\n",
    "- male names, starting with a W: 151\n",
    "- male names, starting with a X: 7\n",
    "- male names, starting with Y: 16\n",
    "- male names, starting with Z: 31"
   ]
  },
  {
   "cell_type": "markdown",
   "id": "d149fd4c",
   "metadata": {},
   "source": [
    "I make a dictionary which becomes a pandas dataframe:"
   ]
  },
  {
   "cell_type": "code",
   "execution_count": 32,
   "id": "392d63ed",
   "metadata": {},
   "outputs": [],
   "source": [
    "male_names_in_alphabet = {\"Initial\":[\"A\", \"B\", \"C\", \"D\", \"E\", \"F\", \"G\", \"H\", \"I\", \"J\", \"K\", \"L\", \"M\", \"N\",\n",
    "                                             \"O\", \"P\", \"Q\", \"R\", \"S\", \"T\", \"U\", \"V\", \"W\", \"X\", \"Y\", \"Z\"],\n",
    "                                \"quantity_male_names\":[213, 173, 166, 146, 119, 87, 156, 163, 45, 144, 70, 113, 200, 77,\n",
    "                                            52, 101, 15, 200, 238, 188, 22, 50, 151, 7, 16, 31]}"
   ]
  },
  {
   "cell_type": "code",
   "execution_count": 33,
   "id": "322394c8",
   "metadata": {
    "scrolled": true
   },
   "outputs": [
    {
     "data": {
      "text/plain": [
       "(26, 2)"
      ]
     },
     "execution_count": 33,
     "metadata": {},
     "output_type": "execute_result"
    }
   ],
   "source": [
    "pd.DataFrame(male_names_in_alphabet).shape        # checking size"
   ]
  },
  {
   "cell_type": "code",
   "execution_count": 34,
   "id": "6ccef4d7",
   "metadata": {},
   "outputs": [],
   "source": [
    "df_initials_male = pd.DataFrame(male_names_in_alphabet)"
   ]
  },
  {
   "cell_type": "markdown",
   "id": "1d98733d",
   "metadata": {},
   "source": [
    "All my variables, starting with a \"df\", are speaking of a DataFrame:"
   ]
  },
  {
   "cell_type": "code",
   "execution_count": 35,
   "id": "4a961657",
   "metadata": {},
   "outputs": [
    {
     "data": {
      "text/html": [
       "<div>\n",
       "<style scoped>\n",
       "    .dataframe tbody tr th:only-of-type {\n",
       "        vertical-align: middle;\n",
       "    }\n",
       "\n",
       "    .dataframe tbody tr th {\n",
       "        vertical-align: top;\n",
       "    }\n",
       "\n",
       "    .dataframe thead th {\n",
       "        text-align: right;\n",
       "    }\n",
       "</style>\n",
       "<table border=\"1\" class=\"dataframe\">\n",
       "  <thead>\n",
       "    <tr style=\"text-align: right;\">\n",
       "      <th></th>\n",
       "      <th>Initial</th>\n",
       "      <th>quantity_male_names</th>\n",
       "    </tr>\n",
       "  </thead>\n",
       "  <tbody>\n",
       "    <tr>\n",
       "      <th>0</th>\n",
       "      <td>A</td>\n",
       "      <td>213</td>\n",
       "    </tr>\n",
       "    <tr>\n",
       "      <th>1</th>\n",
       "      <td>B</td>\n",
       "      <td>173</td>\n",
       "    </tr>\n",
       "    <tr>\n",
       "      <th>2</th>\n",
       "      <td>C</td>\n",
       "      <td>166</td>\n",
       "    </tr>\n",
       "    <tr>\n",
       "      <th>3</th>\n",
       "      <td>D</td>\n",
       "      <td>146</td>\n",
       "    </tr>\n",
       "    <tr>\n",
       "      <th>4</th>\n",
       "      <td>E</td>\n",
       "      <td>119</td>\n",
       "    </tr>\n",
       "    <tr>\n",
       "      <th>5</th>\n",
       "      <td>F</td>\n",
       "      <td>87</td>\n",
       "    </tr>\n",
       "    <tr>\n",
       "      <th>6</th>\n",
       "      <td>G</td>\n",
       "      <td>156</td>\n",
       "    </tr>\n",
       "    <tr>\n",
       "      <th>7</th>\n",
       "      <td>H</td>\n",
       "      <td>163</td>\n",
       "    </tr>\n",
       "    <tr>\n",
       "      <th>8</th>\n",
       "      <td>I</td>\n",
       "      <td>45</td>\n",
       "    </tr>\n",
       "    <tr>\n",
       "      <th>9</th>\n",
       "      <td>J</td>\n",
       "      <td>144</td>\n",
       "    </tr>\n",
       "    <tr>\n",
       "      <th>10</th>\n",
       "      <td>K</td>\n",
       "      <td>70</td>\n",
       "    </tr>\n",
       "    <tr>\n",
       "      <th>11</th>\n",
       "      <td>L</td>\n",
       "      <td>113</td>\n",
       "    </tr>\n",
       "    <tr>\n",
       "      <th>12</th>\n",
       "      <td>M</td>\n",
       "      <td>200</td>\n",
       "    </tr>\n",
       "    <tr>\n",
       "      <th>13</th>\n",
       "      <td>N</td>\n",
       "      <td>77</td>\n",
       "    </tr>\n",
       "    <tr>\n",
       "      <th>14</th>\n",
       "      <td>O</td>\n",
       "      <td>52</td>\n",
       "    </tr>\n",
       "    <tr>\n",
       "      <th>15</th>\n",
       "      <td>P</td>\n",
       "      <td>101</td>\n",
       "    </tr>\n",
       "    <tr>\n",
       "      <th>16</th>\n",
       "      <td>Q</td>\n",
       "      <td>15</td>\n",
       "    </tr>\n",
       "    <tr>\n",
       "      <th>17</th>\n",
       "      <td>R</td>\n",
       "      <td>200</td>\n",
       "    </tr>\n",
       "    <tr>\n",
       "      <th>18</th>\n",
       "      <td>S</td>\n",
       "      <td>238</td>\n",
       "    </tr>\n",
       "    <tr>\n",
       "      <th>19</th>\n",
       "      <td>T</td>\n",
       "      <td>188</td>\n",
       "    </tr>\n",
       "    <tr>\n",
       "      <th>20</th>\n",
       "      <td>U</td>\n",
       "      <td>22</td>\n",
       "    </tr>\n",
       "    <tr>\n",
       "      <th>21</th>\n",
       "      <td>V</td>\n",
       "      <td>50</td>\n",
       "    </tr>\n",
       "    <tr>\n",
       "      <th>22</th>\n",
       "      <td>W</td>\n",
       "      <td>151</td>\n",
       "    </tr>\n",
       "    <tr>\n",
       "      <th>23</th>\n",
       "      <td>X</td>\n",
       "      <td>7</td>\n",
       "    </tr>\n",
       "    <tr>\n",
       "      <th>24</th>\n",
       "      <td>Y</td>\n",
       "      <td>16</td>\n",
       "    </tr>\n",
       "    <tr>\n",
       "      <th>25</th>\n",
       "      <td>Z</td>\n",
       "      <td>31</td>\n",
       "    </tr>\n",
       "  </tbody>\n",
       "</table>\n",
       "</div>"
      ],
      "text/plain": [
       "   Initial  quantity_male_names\n",
       "0        A                  213\n",
       "1        B                  173\n",
       "2        C                  166\n",
       "3        D                  146\n",
       "4        E                  119\n",
       "5        F                   87\n",
       "6        G                  156\n",
       "7        H                  163\n",
       "8        I                   45\n",
       "9        J                  144\n",
       "10       K                   70\n",
       "11       L                  113\n",
       "12       M                  200\n",
       "13       N                   77\n",
       "14       O                   52\n",
       "15       P                  101\n",
       "16       Q                   15\n",
       "17       R                  200\n",
       "18       S                  238\n",
       "19       T                  188\n",
       "20       U                   22\n",
       "21       V                   50\n",
       "22       W                  151\n",
       "23       X                    7\n",
       "24       Y                   16\n",
       "25       Z                   31"
      ]
     },
     "execution_count": 35,
     "metadata": {},
     "output_type": "execute_result"
    }
   ],
   "source": [
    "df_initials_male"
   ]
  },
  {
   "cell_type": "markdown",
   "id": "7892598d",
   "metadata": {},
   "source": [
    "Other variables show a column or something more specific:"
   ]
  },
  {
   "cell_type": "code",
   "execution_count": 36,
   "id": "8e89e50f",
   "metadata": {},
   "outputs": [],
   "source": [
    "initials_male = df_initials_male.Initial"
   ]
  },
  {
   "cell_type": "code",
   "execution_count": 37,
   "id": "a60f1904",
   "metadata": {},
   "outputs": [],
   "source": [
    "quantity_initials_male = df_initials_male.quantity_male_names"
   ]
  },
  {
   "cell_type": "markdown",
   "id": "82500f36",
   "metadata": {},
   "source": [
    "Checking the sum of all names after the transition of data, must be 2943:"
   ]
  },
  {
   "cell_type": "code",
   "execution_count": 38,
   "id": "c15ad34d",
   "metadata": {},
   "outputs": [
    {
     "data": {
      "text/plain": [
       "2943"
      ]
     },
     "execution_count": 38,
     "metadata": {},
     "output_type": "execute_result"
    }
   ],
   "source": [
    "quantity_initials_male.sum()  "
   ]
  },
  {
   "cell_type": "markdown",
   "id": "1de46778",
   "metadata": {},
   "source": [
    "And here is the data visualization:"
   ]
  },
  {
   "cell_type": "code",
   "execution_count": 39,
   "id": "2bc0c229",
   "metadata": {},
   "outputs": [
    {
     "data": {
      "image/png": "[encoded data removed]",
      "text/plain": [
       "<Figure size 640x480 with 1 Axes>"
      ]
     },
     "metadata": {},
     "output_type": "display_data"
    }
   ],
   "source": [
    "fig, ax = plt.subplots()\n",
    "\n",
    "ax.bar(initials_male, quantity_initials_male, width = 0.5, color = \"cadetblue\")\n",
    "ax.set_ylim(0, 250)\n",
    "\n",
    "ax.spines['bottom'].set_color(\"ghostwhite\")\n",
    "ax.spines['top'].set_color(\"ghostwhite\") \n",
    "ax.spines['right'].set_color(\"cadetblue\")\n",
    "ax.spines['left'].set_color(\"cadetblue\")\n",
    "\n",
    "ax.set_ylabel(\"Quantity of male names\", size = 9)\n",
    "ax.set_title(\"Quantity of male names accordingly to their Initials\", size = 10, pad = 10)\n",
    "\n",
    "plt.show()"
   ]
  },
  {
   "cell_type": "code",
   "execution_count": 40,
   "id": "b8600621",
   "metadata": {},
   "outputs": [
    {
     "data": {
      "text/plain": [
       "[7, 238]"
      ]
     },
     "execution_count": 40,
     "metadata": {},
     "output_type": "execute_result"
    }
   ],
   "source": [
    "[quantity_initials_male.min(), quantity_initials_male.max()]         # checking the y-axis scale "
   ]
  },
  {
   "cell_type": "markdown",
   "id": "7b558b12",
   "metadata": {},
   "source": [
    "> Most of the male names are beginning with the letter $S$ and at least they begin with a $X$"
   ]
  },
  {
   "cell_type": "markdown",
   "id": "72e30b9a",
   "metadata": {},
   "source": [
    "But let us see what are these male names beginning with a $X$ and perhaps we do a X, Y, Z: most used letters in mathematics."
   ]
  },
  {
   "cell_type": "markdown",
   "id": "1286cc6f",
   "metadata": {},
   "source": [
    "Even though it is one of the least-used letters in the English alphabet, $X$ appears plenty throughout our lifes – from the $X$-Men superheroes to “The $X$-Files” TV series. The letter $X$ often symbolizes something unknown, with an air of mystery... Just look at Elon Musk with Space$X$ and Tesla’s Model $X$, and $X$ as a new name for Twitter. Elon even calls his son $X$ /iks/ whose real name is \"XÆA-12\"."
   ]
  },
  {
   "cell_type": "markdown",
   "id": "930c8271",
   "metadata": {},
   "source": [
    "The letter $X$ is key to modern algebra and matrices since all ancient algebra was rhetorical - mathematical problems and solutions were completely written out in words as part of a little story. Mathematical know-how developed somewhat independently in many lands and in many languages. "
   ]
  },
  {
   "cell_type": "markdown",
   "id": "a4c05e91",
   "metadata": {},
   "source": [
    "One theory of $X$ as the unknown in algebra points to the Islamic roots. The theory contends that the Arabic word used for the quantity being sought was \"al-shayun\", meaning “specific something\", which was shortened to the symbol for its first “sh” sound. European scholars represented this sound by the Greek letter $\\chi$, which later became the Latin $X$. It is not unusual for mathematical expressions to occur through convoluted translations."
   ]
  },
  {
   "cell_type": "markdown",
   "id": "c86768f0",
   "metadata": {},
   "source": [
    "Yet, probably, the most plausible explanation is to credit the influential French scholar René Descartes for the use of $X$. For unspecified constants he chose the first few letters of the alphabet, and for variables he chose the last letters in reversed order (you can see in the df_initials_male above)."
   ]
  },
  {
   "cell_type": "markdown",
   "id": "4570b5f1",
   "metadata": {},
   "source": [
    "Quantity of names beginning with a $X$:"
   ]
  },
  {
   "cell_type": "code",
   "execution_count": 41,
   "id": "70e09615",
   "metadata": {},
   "outputs": [
    {
     "data": {
      "text/plain": [
       "Initial                X\n",
       "quantity_male_names    7\n",
       "Name: 23, dtype: object"
      ]
     },
     "execution_count": 41,
     "metadata": {},
     "output_type": "execute_result"
    }
   ],
   "source": [
    "df_initials_male.loc[23]"
   ]
  },
  {
   "cell_type": "markdown",
   "id": "6d07a26a",
   "metadata": {},
   "source": [
    "Quantity of names beginning with a $Y$:"
   ]
  },
  {
   "cell_type": "code",
   "execution_count": 42,
   "id": "bdb0919f",
   "metadata": {},
   "outputs": [
    {
     "data": {
      "text/plain": [
       "Initial                 Y\n",
       "quantity_male_names    16\n",
       "Name: 24, dtype: object"
      ]
     },
     "execution_count": 42,
     "metadata": {},
     "output_type": "execute_result"
    }
   ],
   "source": [
    "df_initials_male.loc[24]"
   ]
  },
  {
   "cell_type": "markdown",
   "id": "612d4d01",
   "metadata": {},
   "source": [
    "Quantity of names beginning with a $Z$:"
   ]
  },
  {
   "cell_type": "code",
   "execution_count": 43,
   "id": "999646e1",
   "metadata": {},
   "outputs": [
    {
     "data": {
      "text/plain": [
       "Initial                 Z\n",
       "quantity_male_names    31\n",
       "Name: 25, dtype: object"
      ]
     },
     "execution_count": 43,
     "metadata": {},
     "output_type": "execute_result"
    }
   ],
   "source": [
    "df_initials_male.loc[25]"
   ]
  },
  {
   "cell_type": "markdown",
   "id": "a65693e8",
   "metadata": {},
   "source": [
    "Addition of the three letters:"
   ]
  },
  {
   "cell_type": "code",
   "execution_count": 44,
   "id": "90052ea5",
   "metadata": {},
   "outputs": [
    {
     "data": {
      "text/plain": [
       "Initial                XYZ\n",
       "quantity_male_names     54\n",
       "dtype: object"
      ]
     },
     "execution_count": 44,
     "metadata": {},
     "output_type": "execute_result"
    }
   ],
   "source": [
    "(df_initials_male.loc[23] + df_initials_male.loc[24] + df_initials_male.loc[25])"
   ]
  },
  {
   "cell_type": "markdown",
   "id": "d50ea354",
   "metadata": {},
   "source": [
    "Because the letters are last rows, I use the tail method:"
   ]
  },
  {
   "cell_type": "code",
   "execution_count": 45,
   "id": "69e84f3e",
   "metadata": {},
   "outputs": [
    {
     "data": {
      "text/html": [
       "<div>\n",
       "<style scoped>\n",
       "    .dataframe tbody tr th:only-of-type {\n",
       "        vertical-align: middle;\n",
       "    }\n",
       "\n",
       "    .dataframe tbody tr th {\n",
       "        vertical-align: top;\n",
       "    }\n",
       "\n",
       "    .dataframe thead th {\n",
       "        text-align: right;\n",
       "    }\n",
       "</style>\n",
       "<table border=\"1\" class=\"dataframe\">\n",
       "  <thead>\n",
       "    <tr style=\"text-align: right;\">\n",
       "      <th></th>\n",
       "      <th>names_m</th>\n",
       "    </tr>\n",
       "  </thead>\n",
       "  <tbody>\n",
       "    <tr>\n",
       "      <th>2889</th>\n",
       "      <td>Xavier</td>\n",
       "    </tr>\n",
       "    <tr>\n",
       "      <th>2890</th>\n",
       "      <td>Xenos</td>\n",
       "    </tr>\n",
       "    <tr>\n",
       "      <th>2891</th>\n",
       "      <td>Xerxes</td>\n",
       "    </tr>\n",
       "    <tr>\n",
       "      <th>2892</th>\n",
       "      <td>Xever</td>\n",
       "    </tr>\n",
       "    <tr>\n",
       "      <th>2893</th>\n",
       "      <td>Ximenes</td>\n",
       "    </tr>\n",
       "    <tr>\n",
       "      <th>2894</th>\n",
       "      <td>Ximenez</td>\n",
       "    </tr>\n",
       "    <tr>\n",
       "      <th>2895</th>\n",
       "      <td>Xymenes</td>\n",
       "    </tr>\n",
       "    <tr>\n",
       "      <th>2896</th>\n",
       "      <td>Yaakov</td>\n",
       "    </tr>\n",
       "    <tr>\n",
       "      <th>2897</th>\n",
       "      <td>Yacov</td>\n",
       "    </tr>\n",
       "    <tr>\n",
       "      <th>2898</th>\n",
       "      <td>Yale</td>\n",
       "    </tr>\n",
       "    <tr>\n",
       "      <th>2899</th>\n",
       "      <td>Yanaton</td>\n",
       "    </tr>\n",
       "    <tr>\n",
       "      <th>2900</th>\n",
       "      <td>Yance</td>\n",
       "    </tr>\n",
       "    <tr>\n",
       "      <th>2901</th>\n",
       "      <td>Yancey</td>\n",
       "    </tr>\n",
       "    <tr>\n",
       "      <th>2902</th>\n",
       "      <td>Yancy</td>\n",
       "    </tr>\n",
       "    <tr>\n",
       "      <th>2903</th>\n",
       "      <td>Yank</td>\n",
       "    </tr>\n",
       "    <tr>\n",
       "      <th>2904</th>\n",
       "      <td>Yankee</td>\n",
       "    </tr>\n",
       "    <tr>\n",
       "      <th>2905</th>\n",
       "      <td>Yard</td>\n",
       "    </tr>\n",
       "    <tr>\n",
       "      <th>2906</th>\n",
       "      <td>Yardley</td>\n",
       "    </tr>\n",
       "    <tr>\n",
       "      <th>2907</th>\n",
       "      <td>Yehudi</td>\n",
       "    </tr>\n",
       "    <tr>\n",
       "      <th>2908</th>\n",
       "      <td>Yigal</td>\n",
       "    </tr>\n",
       "    <tr>\n",
       "      <th>2909</th>\n",
       "      <td>Yule</td>\n",
       "    </tr>\n",
       "    <tr>\n",
       "      <th>2910</th>\n",
       "      <td>Yuri</td>\n",
       "    </tr>\n",
       "    <tr>\n",
       "      <th>2911</th>\n",
       "      <td>Yves</td>\n",
       "    </tr>\n",
       "    <tr>\n",
       "      <th>2912</th>\n",
       "      <td>Zach</td>\n",
       "    </tr>\n",
       "    <tr>\n",
       "      <th>2913</th>\n",
       "      <td>Zacharia</td>\n",
       "    </tr>\n",
       "    <tr>\n",
       "      <th>2914</th>\n",
       "      <td>Zachariah</td>\n",
       "    </tr>\n",
       "    <tr>\n",
       "      <th>2915</th>\n",
       "      <td>Zacharias</td>\n",
       "    </tr>\n",
       "    <tr>\n",
       "      <th>2916</th>\n",
       "      <td>Zacharie</td>\n",
       "    </tr>\n",
       "    <tr>\n",
       "      <th>2917</th>\n",
       "      <td>Zachary</td>\n",
       "    </tr>\n",
       "    <tr>\n",
       "      <th>2918</th>\n",
       "      <td>Zacherie</td>\n",
       "    </tr>\n",
       "    <tr>\n",
       "      <th>2919</th>\n",
       "      <td>Zachery</td>\n",
       "    </tr>\n",
       "    <tr>\n",
       "      <th>2920</th>\n",
       "      <td>Zack</td>\n",
       "    </tr>\n",
       "    <tr>\n",
       "      <th>2921</th>\n",
       "      <td>Zackariah</td>\n",
       "    </tr>\n",
       "    <tr>\n",
       "      <th>2922</th>\n",
       "      <td>Zak</td>\n",
       "    </tr>\n",
       "    <tr>\n",
       "      <th>2923</th>\n",
       "      <td>Zalman</td>\n",
       "    </tr>\n",
       "    <tr>\n",
       "      <th>2924</th>\n",
       "      <td>Zane</td>\n",
       "    </tr>\n",
       "    <tr>\n",
       "      <th>2925</th>\n",
       "      <td>Zared</td>\n",
       "    </tr>\n",
       "    <tr>\n",
       "      <th>2926</th>\n",
       "      <td>Zary</td>\n",
       "    </tr>\n",
       "    <tr>\n",
       "      <th>2927</th>\n",
       "      <td>Zeb</td>\n",
       "    </tr>\n",
       "    <tr>\n",
       "      <th>2928</th>\n",
       "      <td>Zebadiah</td>\n",
       "    </tr>\n",
       "    <tr>\n",
       "      <th>2929</th>\n",
       "      <td>Zebedee</td>\n",
       "    </tr>\n",
       "    <tr>\n",
       "      <th>2930</th>\n",
       "      <td>Zebulen</td>\n",
       "    </tr>\n",
       "    <tr>\n",
       "      <th>2931</th>\n",
       "      <td>Zebulon</td>\n",
       "    </tr>\n",
       "    <tr>\n",
       "      <th>2932</th>\n",
       "      <td>Zechariah</td>\n",
       "    </tr>\n",
       "    <tr>\n",
       "      <th>2933</th>\n",
       "      <td>Zed</td>\n",
       "    </tr>\n",
       "    <tr>\n",
       "      <th>2934</th>\n",
       "      <td>Zedekiah</td>\n",
       "    </tr>\n",
       "    <tr>\n",
       "      <th>2935</th>\n",
       "      <td>Zeke</td>\n",
       "    </tr>\n",
       "    <tr>\n",
       "      <th>2936</th>\n",
       "      <td>Zelig</td>\n",
       "    </tr>\n",
       "    <tr>\n",
       "      <th>2937</th>\n",
       "      <td>Zerk</td>\n",
       "    </tr>\n",
       "    <tr>\n",
       "      <th>2938</th>\n",
       "      <td>Zeus</td>\n",
       "    </tr>\n",
       "    <tr>\n",
       "      <th>2939</th>\n",
       "      <td>Zippy</td>\n",
       "    </tr>\n",
       "    <tr>\n",
       "      <th>2940</th>\n",
       "      <td>Zollie</td>\n",
       "    </tr>\n",
       "    <tr>\n",
       "      <th>2941</th>\n",
       "      <td>Zolly</td>\n",
       "    </tr>\n",
       "    <tr>\n",
       "      <th>2942</th>\n",
       "      <td>Zorro</td>\n",
       "    </tr>\n",
       "  </tbody>\n",
       "</table>\n",
       "</div>"
      ],
      "text/plain": [
       "        names_m\n",
       "2889     Xavier\n",
       "2890      Xenos\n",
       "2891     Xerxes\n",
       "2892      Xever\n",
       "2893    Ximenes\n",
       "2894    Ximenez\n",
       "2895    Xymenes\n",
       "2896     Yaakov\n",
       "2897      Yacov\n",
       "2898       Yale\n",
       "2899    Yanaton\n",
       "2900      Yance\n",
       "2901     Yancey\n",
       "2902      Yancy\n",
       "2903       Yank\n",
       "2904     Yankee\n",
       "2905       Yard\n",
       "2906    Yardley\n",
       "2907     Yehudi\n",
       "2908      Yigal\n",
       "2909       Yule\n",
       "2910       Yuri\n",
       "2911       Yves\n",
       "2912       Zach\n",
       "2913   Zacharia\n",
       "2914  Zachariah\n",
       "2915  Zacharias\n",
       "2916   Zacharie\n",
       "2917    Zachary\n",
       "2918   Zacherie\n",
       "2919    Zachery\n",
       "2920       Zack\n",
       "2921  Zackariah\n",
       "2922        Zak\n",
       "2923     Zalman\n",
       "2924       Zane\n",
       "2925      Zared\n",
       "2926       Zary\n",
       "2927        Zeb\n",
       "2928   Zebadiah\n",
       "2929    Zebedee\n",
       "2930    Zebulen\n",
       "2931    Zebulon\n",
       "2932  Zechariah\n",
       "2933        Zed\n",
       "2934   Zedekiah\n",
       "2935       Zeke\n",
       "2936      Zelig\n",
       "2937       Zerk\n",
       "2938       Zeus\n",
       "2939      Zippy\n",
       "2940     Zollie\n",
       "2941      Zolly\n",
       "2942      Zorro"
      ]
     },
     "execution_count": 45,
     "metadata": {},
     "output_type": "execute_result"
    }
   ],
   "source": [
    "df_male_names.tail(54)"
   ]
  },
  {
   "cell_type": "markdown",
   "id": "2969511f",
   "metadata": {},
   "source": [
    "Above, you can read the names with the most unique initials... I like the name Xavier! There is a German singer, songwriter and producer: Xavier Naidoo."
   ]
  },
  {
   "cell_type": "markdown",
   "id": "18edb5a5",
   "metadata": {},
   "source": [
    "Oh, wait! As seen on the visual presentation \"Quantity of male names accordingly to their Initials\", $Q$ is also an intriguing letter. Let us explore the $Q$-names."
   ]
  },
  {
   "cell_type": "markdown",
   "id": "4387fd6f",
   "metadata": {},
   "source": [
    "$Q$ is the 17th letter in the alphabet and on 16th position in the df_initials_male DataFrame."
   ]
  },
  {
   "cell_type": "code",
   "execution_count": 46,
   "id": "32a08a0c",
   "metadata": {},
   "outputs": [
    {
     "data": {
      "text/plain": [
       "Initial                 Q\n",
       "quantity_male_names    15\n",
       "Name: 16, dtype: object"
      ]
     },
     "execution_count": 46,
     "metadata": {},
     "output_type": "execute_result"
    }
   ],
   "source": [
    "df_initials_male.loc[16]"
   ]
  },
  {
   "cell_type": "markdown",
   "id": "9749e752",
   "metadata": {},
   "source": [
    "There are 15 names. I go back to the regex row with the letter $Q$ (cell 22 in the document), open the line as I remove .shape and see the positions in the dataset of the names beginning with $Q$: 2025 to 2039"
   ]
  },
  {
   "cell_type": "code",
   "execution_count": 47,
   "id": "518d4ac8",
   "metadata": {},
   "outputs": [
    {
     "data": {
      "text/html": [
       "<div>\n",
       "<style scoped>\n",
       "    .dataframe tbody tr th:only-of-type {\n",
       "        vertical-align: middle;\n",
       "    }\n",
       "\n",
       "    .dataframe tbody tr th {\n",
       "        vertical-align: top;\n",
       "    }\n",
       "\n",
       "    .dataframe thead th {\n",
       "        text-align: right;\n",
       "    }\n",
       "</style>\n",
       "<table border=\"1\" class=\"dataframe\">\n",
       "  <thead>\n",
       "    <tr style=\"text-align: right;\">\n",
       "      <th></th>\n",
       "      <th>names_m</th>\n",
       "    </tr>\n",
       "  </thead>\n",
       "  <tbody>\n",
       "    <tr>\n",
       "      <th>2025</th>\n",
       "      <td>Quent</td>\n",
       "    </tr>\n",
       "    <tr>\n",
       "      <th>2026</th>\n",
       "      <td>Quentin</td>\n",
       "    </tr>\n",
       "    <tr>\n",
       "      <th>2027</th>\n",
       "      <td>Quiggly</td>\n",
       "    </tr>\n",
       "    <tr>\n",
       "      <th>2028</th>\n",
       "      <td>Quigly</td>\n",
       "    </tr>\n",
       "    <tr>\n",
       "      <th>2029</th>\n",
       "      <td>Quigman</td>\n",
       "    </tr>\n",
       "    <tr>\n",
       "      <th>2030</th>\n",
       "      <td>Quill</td>\n",
       "    </tr>\n",
       "    <tr>\n",
       "      <th>2031</th>\n",
       "      <td>Quillan</td>\n",
       "    </tr>\n",
       "    <tr>\n",
       "      <th>2032</th>\n",
       "      <td>Quincey</td>\n",
       "    </tr>\n",
       "    <tr>\n",
       "      <th>2033</th>\n",
       "      <td>Quincy</td>\n",
       "    </tr>\n",
       "    <tr>\n",
       "      <th>2034</th>\n",
       "      <td>Quinlan</td>\n",
       "    </tr>\n",
       "    <tr>\n",
       "      <th>2035</th>\n",
       "      <td>Quinn</td>\n",
       "    </tr>\n",
       "    <tr>\n",
       "      <th>2036</th>\n",
       "      <td>Quint</td>\n",
       "    </tr>\n",
       "    <tr>\n",
       "      <th>2037</th>\n",
       "      <td>Quintin</td>\n",
       "    </tr>\n",
       "    <tr>\n",
       "      <th>2038</th>\n",
       "      <td>Quinton</td>\n",
       "    </tr>\n",
       "    <tr>\n",
       "      <th>2039</th>\n",
       "      <td>Quintus</td>\n",
       "    </tr>\n",
       "  </tbody>\n",
       "</table>\n",
       "</div>"
      ],
      "text/plain": [
       "      names_m\n",
       "2025    Quent\n",
       "2026  Quentin\n",
       "2027  Quiggly\n",
       "2028   Quigly\n",
       "2029  Quigman\n",
       "2030    Quill\n",
       "2031  Quillan\n",
       "2032  Quincey\n",
       "2033   Quincy\n",
       "2034  Quinlan\n",
       "2035    Quinn\n",
       "2036    Quint\n",
       "2037  Quintin\n",
       "2038  Quinton\n",
       "2039  Quintus"
      ]
     },
     "execution_count": 47,
     "metadata": {},
     "output_type": "execute_result"
    }
   ],
   "source": [
    "df_male_names[2025:2039 + 1]             # +1 is Python specific, includes the last"
   ]
  },
  {
   "cell_type": "markdown",
   "id": "6f19a96f",
   "metadata": {},
   "source": [
    "What do you think? Is there a name of somebody you know?"
   ]
  },
  {
   "cell_type": "markdown",
   "id": "e930521b",
   "metadata": {},
   "source": [
    "My name is Irina. I am curious about the other names beginning with an $I$. This letter is quite interesting for me! It has a minimalistic touch and the small $i$ is like a mini me! Irina means $peace$. I enjoy the melody of my name when someone calls me Irina, it sounds clear and simple."
   ]
  },
  {
   "cell_type": "code",
   "execution_count": 48,
   "id": "90f65831",
   "metadata": {},
   "outputs": [
    {
     "data": {
      "text/html": [
       "<div>\n",
       "<style scoped>\n",
       "    .dataframe tbody tr th:only-of-type {\n",
       "        vertical-align: middle;\n",
       "    }\n",
       "\n",
       "    .dataframe tbody tr th {\n",
       "        vertical-align: top;\n",
       "    }\n",
       "\n",
       "    .dataframe thead th {\n",
       "        text-align: right;\n",
       "    }\n",
       "</style>\n",
       "<table border=\"1\" class=\"dataframe\">\n",
       "  <thead>\n",
       "    <tr style=\"text-align: right;\">\n",
       "      <th></th>\n",
       "      <th>names_m</th>\n",
       "    </tr>\n",
       "  </thead>\n",
       "  <tbody>\n",
       "    <tr>\n",
       "      <th>1223</th>\n",
       "      <td>Iago</td>\n",
       "    </tr>\n",
       "    <tr>\n",
       "      <th>1224</th>\n",
       "      <td>Iain</td>\n",
       "    </tr>\n",
       "    <tr>\n",
       "      <th>1225</th>\n",
       "      <td>Ian</td>\n",
       "    </tr>\n",
       "    <tr>\n",
       "      <th>1226</th>\n",
       "      <td>Ibrahim</td>\n",
       "    </tr>\n",
       "    <tr>\n",
       "      <th>1227</th>\n",
       "      <td>Ichabod</td>\n",
       "    </tr>\n",
       "    <tr>\n",
       "      <th>1228</th>\n",
       "      <td>Iggie</td>\n",
       "    </tr>\n",
       "    <tr>\n",
       "      <th>1229</th>\n",
       "      <td>Iggy</td>\n",
       "    </tr>\n",
       "    <tr>\n",
       "      <th>1230</th>\n",
       "      <td>Ignace</td>\n",
       "    </tr>\n",
       "    <tr>\n",
       "      <th>1231</th>\n",
       "      <td>Ignacio</td>\n",
       "    </tr>\n",
       "    <tr>\n",
       "      <th>1232</th>\n",
       "      <td>Ignacius</td>\n",
       "    </tr>\n",
       "    <tr>\n",
       "      <th>1233</th>\n",
       "      <td>Ignatius</td>\n",
       "    </tr>\n",
       "    <tr>\n",
       "      <th>1234</th>\n",
       "      <td>Ignaz</td>\n",
       "    </tr>\n",
       "    <tr>\n",
       "      <th>1235</th>\n",
       "      <td>Ignazio</td>\n",
       "    </tr>\n",
       "    <tr>\n",
       "      <th>1236</th>\n",
       "      <td>Igor</td>\n",
       "    </tr>\n",
       "    <tr>\n",
       "      <th>1237</th>\n",
       "      <td>Ike</td>\n",
       "    </tr>\n",
       "    <tr>\n",
       "      <th>1238</th>\n",
       "      <td>Ikey</td>\n",
       "    </tr>\n",
       "    <tr>\n",
       "      <th>1239</th>\n",
       "      <td>Immanuel</td>\n",
       "    </tr>\n",
       "    <tr>\n",
       "      <th>1240</th>\n",
       "      <td>Ingamar</td>\n",
       "    </tr>\n",
       "    <tr>\n",
       "      <th>1241</th>\n",
       "      <td>Ingelbert</td>\n",
       "    </tr>\n",
       "    <tr>\n",
       "      <th>1242</th>\n",
       "      <td>Ingemar</td>\n",
       "    </tr>\n",
       "    <tr>\n",
       "      <th>1243</th>\n",
       "      <td>Inglebert</td>\n",
       "    </tr>\n",
       "    <tr>\n",
       "      <th>1244</th>\n",
       "      <td>Ingmar</td>\n",
       "    </tr>\n",
       "    <tr>\n",
       "      <th>1245</th>\n",
       "      <td>Ingram</td>\n",
       "    </tr>\n",
       "    <tr>\n",
       "      <th>1246</th>\n",
       "      <td>Inigo</td>\n",
       "    </tr>\n",
       "    <tr>\n",
       "      <th>1247</th>\n",
       "      <td>Ira</td>\n",
       "    </tr>\n",
       "    <tr>\n",
       "      <th>1248</th>\n",
       "      <td>Irvin</td>\n",
       "    </tr>\n",
       "    <tr>\n",
       "      <th>1249</th>\n",
       "      <td>Irvine</td>\n",
       "    </tr>\n",
       "    <tr>\n",
       "      <th>1250</th>\n",
       "      <td>Irving</td>\n",
       "    </tr>\n",
       "    <tr>\n",
       "      <th>1251</th>\n",
       "      <td>Irwin</td>\n",
       "    </tr>\n",
       "    <tr>\n",
       "      <th>1252</th>\n",
       "      <td>Isa</td>\n",
       "    </tr>\n",
       "    <tr>\n",
       "      <th>1253</th>\n",
       "      <td>Isaac</td>\n",
       "    </tr>\n",
       "    <tr>\n",
       "      <th>1254</th>\n",
       "      <td>Isaak</td>\n",
       "    </tr>\n",
       "    <tr>\n",
       "      <th>1255</th>\n",
       "      <td>Isador</td>\n",
       "    </tr>\n",
       "    <tr>\n",
       "      <th>1256</th>\n",
       "      <td>Isadore</td>\n",
       "    </tr>\n",
       "    <tr>\n",
       "      <th>1257</th>\n",
       "      <td>Isaiah</td>\n",
       "    </tr>\n",
       "    <tr>\n",
       "      <th>1258</th>\n",
       "      <td>Ishmael</td>\n",
       "    </tr>\n",
       "    <tr>\n",
       "      <th>1259</th>\n",
       "      <td>Isidore</td>\n",
       "    </tr>\n",
       "    <tr>\n",
       "      <th>1260</th>\n",
       "      <td>Ismail</td>\n",
       "    </tr>\n",
       "    <tr>\n",
       "      <th>1261</th>\n",
       "      <td>Israel</td>\n",
       "    </tr>\n",
       "    <tr>\n",
       "      <th>1262</th>\n",
       "      <td>Istvan</td>\n",
       "    </tr>\n",
       "    <tr>\n",
       "      <th>1263</th>\n",
       "      <td>Ivan</td>\n",
       "    </tr>\n",
       "    <tr>\n",
       "      <th>1264</th>\n",
       "      <td>Ivor</td>\n",
       "    </tr>\n",
       "    <tr>\n",
       "      <th>1265</th>\n",
       "      <td>Izaak</td>\n",
       "    </tr>\n",
       "    <tr>\n",
       "      <th>1266</th>\n",
       "      <td>Izak</td>\n",
       "    </tr>\n",
       "    <tr>\n",
       "      <th>1267</th>\n",
       "      <td>Izzy</td>\n",
       "    </tr>\n",
       "  </tbody>\n",
       "</table>\n",
       "</div>"
      ],
      "text/plain": [
       "        names_m\n",
       "1223       Iago\n",
       "1224       Iain\n",
       "1225        Ian\n",
       "1226    Ibrahim\n",
       "1227    Ichabod\n",
       "1228      Iggie\n",
       "1229       Iggy\n",
       "1230     Ignace\n",
       "1231    Ignacio\n",
       "1232   Ignacius\n",
       "1233   Ignatius\n",
       "1234      Ignaz\n",
       "1235    Ignazio\n",
       "1236       Igor\n",
       "1237        Ike\n",
       "1238       Ikey\n",
       "1239   Immanuel\n",
       "1240    Ingamar\n",
       "1241  Ingelbert\n",
       "1242    Ingemar\n",
       "1243  Inglebert\n",
       "1244     Ingmar\n",
       "1245     Ingram\n",
       "1246      Inigo\n",
       "1247        Ira\n",
       "1248      Irvin\n",
       "1249     Irvine\n",
       "1250     Irving\n",
       "1251      Irwin\n",
       "1252        Isa\n",
       "1253      Isaac\n",
       "1254      Isaak\n",
       "1255     Isador\n",
       "1256    Isadore\n",
       "1257     Isaiah\n",
       "1258    Ishmael\n",
       "1259    Isidore\n",
       "1260     Ismail\n",
       "1261     Israel\n",
       "1262     Istvan\n",
       "1263       Ivan\n",
       "1264       Ivor\n",
       "1265      Izaak\n",
       "1266       Izak\n",
       "1267       Izzy"
      ]
     },
     "execution_count": 48,
     "metadata": {},
     "output_type": "execute_result"
    }
   ],
   "source": [
    "df_male_names[1223:1267 + 1]"
   ]
  },
  {
   "cell_type": "markdown",
   "id": "281f98ce",
   "metadata": {},
   "source": [
    "Oh, we are in the male names dataset! It is time to regard the female names, but prior to that, I will comment the male names beginning with an $I$:\n",
    "- In the western world and the USA, Ira is a male name. Commonly, I am called Ira! Anyway, male or female, it sounds great!\n",
    "- I like the name Isaac and love the name Isaiah! Both biblical names with rich history.\n",
    "- \"Call me Ishmael.\" Most famous first sentence in book history :)"
   ]
  },
  {
   "cell_type": "code",
   "execution_count": 49,
   "id": "643e9ff1",
   "metadata": {},
   "outputs": [],
   "source": [
    "column_names_fm = [\"names_fm\"]\n",
    "df_female_names = pd.read_csv(\"female.txt\", names = column_names_fm)"
   ]
  },
  {
   "cell_type": "code",
   "execution_count": 50,
   "id": "8c2334c3",
   "metadata": {},
   "outputs": [
    {
     "data": {
      "text/html": [
       "<div>\n",
       "<style scoped>\n",
       "    .dataframe tbody tr th:only-of-type {\n",
       "        vertical-align: middle;\n",
       "    }\n",
       "\n",
       "    .dataframe tbody tr th {\n",
       "        vertical-align: top;\n",
       "    }\n",
       "\n",
       "    .dataframe thead th {\n",
       "        text-align: right;\n",
       "    }\n",
       "</style>\n",
       "<table border=\"1\" class=\"dataframe\">\n",
       "  <thead>\n",
       "    <tr style=\"text-align: right;\">\n",
       "      <th></th>\n",
       "      <th>names_fm</th>\n",
       "    </tr>\n",
       "  </thead>\n",
       "  <tbody>\n",
       "    <tr>\n",
       "      <th>0</th>\n",
       "      <td>Abagael</td>\n",
       "    </tr>\n",
       "    <tr>\n",
       "      <th>1</th>\n",
       "      <td>Abagail</td>\n",
       "    </tr>\n",
       "    <tr>\n",
       "      <th>2</th>\n",
       "      <td>Abbe</td>\n",
       "    </tr>\n",
       "    <tr>\n",
       "      <th>3</th>\n",
       "      <td>Abbey</td>\n",
       "    </tr>\n",
       "    <tr>\n",
       "      <th>4</th>\n",
       "      <td>Abbi</td>\n",
       "    </tr>\n",
       "    <tr>\n",
       "      <th>...</th>\n",
       "      <td>...</td>\n",
       "    </tr>\n",
       "    <tr>\n",
       "      <th>4996</th>\n",
       "      <td>Zorine</td>\n",
       "    </tr>\n",
       "    <tr>\n",
       "      <th>4997</th>\n",
       "      <td>Zsa Zsa</td>\n",
       "    </tr>\n",
       "    <tr>\n",
       "      <th>4998</th>\n",
       "      <td>Zsazsa</td>\n",
       "    </tr>\n",
       "    <tr>\n",
       "      <th>4999</th>\n",
       "      <td>Zulema</td>\n",
       "    </tr>\n",
       "    <tr>\n",
       "      <th>5000</th>\n",
       "      <td>Zuzana</td>\n",
       "    </tr>\n",
       "  </tbody>\n",
       "</table>\n",
       "<p>5001 rows × 1 columns</p>\n",
       "</div>"
      ],
      "text/plain": [
       "     names_fm\n",
       "0     Abagael\n",
       "1     Abagail\n",
       "2        Abbe\n",
       "3       Abbey\n",
       "4        Abbi\n",
       "...       ...\n",
       "4996   Zorine\n",
       "4997  Zsa Zsa\n",
       "4998   Zsazsa\n",
       "4999   Zulema\n",
       "5000   Zuzana\n",
       "\n",
       "[5001 rows x 1 columns]"
      ]
     },
     "execution_count": 50,
     "metadata": {},
     "output_type": "execute_result"
    }
   ],
   "source": [
    "df_female_names"
   ]
  },
  {
   "cell_type": "markdown",
   "id": "fe819c89",
   "metadata": {},
   "source": [
    "Continuing with 5001 female names. I am sure we will find something different in these data! The initial quantity:"
   ]
  },
  {
   "cell_type": "code",
   "execution_count": 51,
   "id": "55adf035",
   "metadata": {},
   "outputs": [],
   "source": [
    "column_names_fm = df_female_names.names_fm"
   ]
  },
  {
   "cell_type": "code",
   "execution_count": 52,
   "id": "771f6eaa",
   "metadata": {},
   "outputs": [
    {
     "data": {
      "text/plain": [
       "(443, 1)"
      ]
     },
     "execution_count": 52,
     "metadata": {},
     "output_type": "execute_result"
    }
   ],
   "source": [
    "column_names_fm.str.extractall(r\"(^A)+\").groupby(level = 0).agg(\" \".join).shape"
   ]
  },
  {
   "cell_type": "code",
   "execution_count": 53,
   "id": "53911f39",
   "metadata": {},
   "outputs": [
    {
     "data": {
      "text/plain": [
       "(246, 1)"
      ]
     },
     "execution_count": 53,
     "metadata": {},
     "output_type": "execute_result"
    }
   ],
   "source": [
    "column_names_fm.str.extractall(r\"(^B)+\").groupby(level = 0).agg(\" \".join).shape"
   ]
  },
  {
   "cell_type": "code",
   "execution_count": 54,
   "id": "ee396690",
   "metadata": {},
   "outputs": [
    {
     "data": {
      "text/plain": [
       "(469, 1)"
      ]
     },
     "execution_count": 54,
     "metadata": {},
     "output_type": "execute_result"
    }
   ],
   "source": [
    "column_names_fm.str.extractall(r\"(^C)+\").groupby(level = 0).agg(\" \".join).shape"
   ]
  },
  {
   "cell_type": "code",
   "execution_count": 55,
   "id": "44b526cc",
   "metadata": {},
   "outputs": [
    {
     "data": {
      "text/plain": [
       "(308, 1)"
      ]
     },
     "execution_count": 55,
     "metadata": {},
     "output_type": "execute_result"
    }
   ],
   "source": [
    "column_names_fm.str.extractall(r\"(^D)+\").groupby(level = 0).agg(\" \".join).shape"
   ]
  },
  {
   "cell_type": "code",
   "execution_count": 56,
   "id": "f4708a57",
   "metadata": {},
   "outputs": [
    {
     "data": {
      "text/plain": [
       "(251, 1)"
      ]
     },
     "execution_count": 56,
     "metadata": {},
     "output_type": "execute_result"
    }
   ],
   "source": [
    "column_names_fm.str.extractall(r\"(^E)+\").groupby(level = 0).agg(\" \".join).shape"
   ]
  },
  {
   "cell_type": "code",
   "execution_count": 57,
   "id": "b3c3a1d3",
   "metadata": {},
   "outputs": [
    {
     "data": {
      "text/plain": [
       "(144, 1)"
      ]
     },
     "execution_count": 57,
     "metadata": {},
     "output_type": "execute_result"
    }
   ],
   "source": [
    "column_names_fm.str.extractall(r\"(^F)+\").groupby(level = 0).agg(\" \".join).shape"
   ]
  },
  {
   "cell_type": "code",
   "execution_count": 58,
   "id": "4834f598",
   "metadata": {},
   "outputs": [
    {
     "data": {
      "text/plain": [
       "(213, 1)"
      ]
     },
     "execution_count": 58,
     "metadata": {},
     "output_type": "execute_result"
    }
   ],
   "source": [
    "column_names_fm.str.extractall(r\"(^G)+\").groupby(level = 0).agg(\" \".join).shape"
   ]
  },
  {
   "cell_type": "code",
   "execution_count": 59,
   "id": "d914172c",
   "metadata": {},
   "outputs": [
    {
     "data": {
      "text/plain": [
       "(124, 1)"
      ]
     },
     "execution_count": 59,
     "metadata": {},
     "output_type": "execute_result"
    }
   ],
   "source": [
    "column_names_fm.str.extractall(r\"(^H)+\").groupby(level = 0).agg(\" \".join).shape"
   ]
  },
  {
   "cell_type": "code",
   "execution_count": 60,
   "id": "3fa625d3",
   "metadata": {},
   "outputs": [
    {
     "data": {
      "text/plain": [
       "(83, 1)"
      ]
     },
     "execution_count": 60,
     "metadata": {},
     "output_type": "execute_result"
    }
   ],
   "source": [
    "column_names_fm.str.extractall(r\"(^I)+\").groupby(level = 0).agg(\" \".join).shape"
   ]
  },
  {
   "cell_type": "code",
   "execution_count": 61,
   "id": "87a82a40",
   "metadata": {},
   "outputs": [
    {
     "data": {
      "text/plain": [
       "(293, 1)"
      ]
     },
     "execution_count": 61,
     "metadata": {},
     "output_type": "execute_result"
    }
   ],
   "source": [
    "column_names_fm.str.extractall(r\"(^J)+\").groupby(level = 0).agg(\" \".join).shape"
   ]
  },
  {
   "cell_type": "code",
   "execution_count": 62,
   "id": "db579bcb",
   "metadata": {},
   "outputs": [
    {
     "data": {
      "text/plain": [
       "(276, 1)"
      ]
     },
     "execution_count": 62,
     "metadata": {},
     "output_type": "execute_result"
    }
   ],
   "source": [
    "column_names_fm.str.extractall(r\"(^K)+\").groupby(level = 0).agg(\" \".join).shape"
   ]
  },
  {
   "cell_type": "code",
   "execution_count": 63,
   "id": "0a6eb1f3",
   "metadata": {},
   "outputs": [
    {
     "data": {
      "text/plain": [
       "(332, 1)"
      ]
     },
     "execution_count": 63,
     "metadata": {},
     "output_type": "execute_result"
    }
   ],
   "source": [
    "column_names_fm.str.extractall(r\"(^L)+\").groupby(level = 0).agg(\" \".join).shape"
   ]
  },
  {
   "cell_type": "code",
   "execution_count": 64,
   "id": "9c336c8e",
   "metadata": {},
   "outputs": [
    {
     "data": {
      "text/plain": [
       "(484, 1)"
      ]
     },
     "execution_count": 64,
     "metadata": {},
     "output_type": "execute_result"
    }
   ],
   "source": [
    "column_names_fm.str.extractall(r\"(^M)+\").groupby(level = 0).agg(\" \".join).shape"
   ]
  },
  {
   "cell_type": "code",
   "execution_count": 65,
   "id": "9cc88d36",
   "metadata": {},
   "outputs": [
    {
     "data": {
      "text/plain": [
       "(158, 1)"
      ]
     },
     "execution_count": 65,
     "metadata": {},
     "output_type": "execute_result"
    }
   ],
   "source": [
    "column_names_fm.str.extractall(r\"(^N)+\").groupby(level = 0).agg(\" \".join).shape"
   ]
  },
  {
   "cell_type": "code",
   "execution_count": 66,
   "id": "6b47d4b0",
   "metadata": {},
   "outputs": [
    {
     "data": {
      "text/plain": [
       "(66, 1)"
      ]
     },
     "execution_count": 66,
     "metadata": {},
     "output_type": "execute_result"
    }
   ],
   "source": [
    "column_names_fm.str.extractall(r\"(^O)+\").groupby(level = 0).agg(\" \".join).shape"
   ]
  },
  {
   "cell_type": "code",
   "execution_count": 67,
   "id": "41d9440e",
   "metadata": {},
   "outputs": [
    {
     "data": {
      "text/plain": [
       "(121, 1)"
      ]
     },
     "execution_count": 67,
     "metadata": {},
     "output_type": "execute_result"
    }
   ],
   "source": [
    "column_names_fm.str.extractall(r\"(^P)+\").groupby(level = 0).agg(\" \".join).shape"
   ]
  },
  {
   "cell_type": "code",
   "execution_count": 68,
   "id": "d269bebd",
   "metadata": {},
   "outputs": [
    {
     "data": {
      "text/plain": [
       "(9, 1)"
      ]
     },
     "execution_count": 68,
     "metadata": {},
     "output_type": "execute_result"
    }
   ],
   "source": [
    "column_names_fm.str.extractall(r\"(^Q)+\").groupby(level = 0).agg(\" \".join).shape"
   ]
  },
  {
   "cell_type": "code",
   "execution_count": 69,
   "id": "4116d781",
   "metadata": {},
   "outputs": [
    {
     "data": {
      "text/plain": [
       "(247, 1)"
      ]
     },
     "execution_count": 69,
     "metadata": {},
     "output_type": "execute_result"
    }
   ],
   "source": [
    "column_names_fm.str.extractall(r\"(^R)+\").groupby(level = 0).agg(\" \".join).shape"
   ]
  },
  {
   "cell_type": "code",
   "execution_count": 70,
   "id": "3e0b34a1",
   "metadata": {},
   "outputs": [
    {
     "data": {
      "text/plain": [
       "(309, 1)"
      ]
     },
     "execution_count": 70,
     "metadata": {},
     "output_type": "execute_result"
    }
   ],
   "source": [
    "column_names_fm.str.extractall(r\"(^S)+\").groupby(level = 0).agg(\" \".join).shape"
   ]
  },
  {
   "cell_type": "code",
   "execution_count": 71,
   "id": "c57c7f43",
   "metadata": {},
   "outputs": [
    {
     "data": {
      "text/plain": [
       "(198, 1)"
      ]
     },
     "execution_count": 71,
     "metadata": {},
     "output_type": "execute_result"
    }
   ],
   "source": [
    "column_names_fm.str.extractall(r\"(^T)+\").groupby(level = 0).agg(\" \".join).shape"
   ]
  },
  {
   "cell_type": "code",
   "execution_count": 72,
   "id": "b81a6fe8",
   "metadata": {},
   "outputs": [
    {
     "data": {
      "text/plain": [
       "(14, 1)"
      ]
     },
     "execution_count": 72,
     "metadata": {},
     "output_type": "execute_result"
    }
   ],
   "source": [
    "column_names_fm.str.extractall(r\"(^U)+\").groupby(level = 0).agg(\" \".join).shape"
   ]
  },
  {
   "cell_type": "code",
   "execution_count": 73,
   "id": "f3820583",
   "metadata": {},
   "outputs": [
    {
     "data": {
      "text/plain": [
       "(105, 1)"
      ]
     },
     "execution_count": 73,
     "metadata": {},
     "output_type": "execute_result"
    }
   ],
   "source": [
    "column_names_fm.str.extractall(r\"(^V)+\").groupby(level = 0).agg(\" \".join).shape"
   ]
  },
  {
   "cell_type": "code",
   "execution_count": 74,
   "id": "5e34bc59",
   "metadata": {},
   "outputs": [
    {
     "data": {
      "text/plain": [
       "(54, 1)"
      ]
     },
     "execution_count": 74,
     "metadata": {},
     "output_type": "execute_result"
    }
   ],
   "source": [
    "column_names_fm.str.extractall(r\"(^W)+\").groupby(level = 0).agg(\" \".join).shape"
   ]
  },
  {
   "cell_type": "code",
   "execution_count": 75,
   "id": "74f90767",
   "metadata": {},
   "outputs": [
    {
     "data": {
      "text/plain": [
       "(5, 1)"
      ]
     },
     "execution_count": 75,
     "metadata": {},
     "output_type": "execute_result"
    }
   ],
   "source": [
    "column_names_fm.str.extractall(r\"(^X)+\").groupby(level = 0).agg(\" \".join).shape"
   ]
  },
  {
   "cell_type": "code",
   "execution_count": 76,
   "id": "018afc27",
   "metadata": {},
   "outputs": [
    {
     "data": {
      "text/plain": [
       "(18, 1)"
      ]
     },
     "execution_count": 76,
     "metadata": {},
     "output_type": "execute_result"
    }
   ],
   "source": [
    "column_names_fm.str.extractall(r\"(^Y)+\").groupby(level = 0).agg(\" \".join).shape"
   ]
  },
  {
   "cell_type": "code",
   "execution_count": 77,
   "id": "ec6d69ec",
   "metadata": {},
   "outputs": [
    {
     "data": {
      "text/plain": [
       "(31, 1)"
      ]
     },
     "execution_count": 77,
     "metadata": {},
     "output_type": "execute_result"
    }
   ],
   "source": [
    "column_names_fm.str.extractall(r\"(^Z)+\").groupby(level = 0).agg(\" \".join).shape"
   ]
  },
  {
   "cell_type": "markdown",
   "id": "fe29cfc8",
   "metadata": {},
   "source": [
    "I make a dictionary with the initials and quantity, and a new DataFrame to work with:"
   ]
  },
  {
   "cell_type": "code",
   "execution_count": 78,
   "id": "8af31972",
   "metadata": {},
   "outputs": [],
   "source": [
    "female_names_in_alphabet = {\"Initials\":[\"A\", \"B\", \"C\", \"D\", \"E\", \"F\", \"G\", \"H\", \"I\", \"J\", \"K\", \"L\", \"M\", \"N\",\n",
    "                                             \"O\", \"P\", \"Q\", \"R\", \"S\", \"T\", \"U\", \"V\", \"W\", \"X\", \"Y\", \"Z\"],\n",
    "                \"quantity_female_names\":[443, 246, 469, 308, 251, 144, 213, 124, 83, 293, 276, 332, 484, 158, 66,\n",
    "                                         121, 9, 247, 309, 198, 14, 105, 54, 5, 18, 31]}"
   ]
  },
  {
   "cell_type": "code",
   "execution_count": 79,
   "id": "124331fd",
   "metadata": {},
   "outputs": [
    {
     "data": {
      "text/plain": [
       "(26, 2)"
      ]
     },
     "execution_count": 79,
     "metadata": {},
     "output_type": "execute_result"
    }
   ],
   "source": [
    "pd.DataFrame(female_names_in_alphabet).shape          # 26 are the letters, correct"
   ]
  },
  {
   "cell_type": "code",
   "execution_count": 80,
   "id": "1e7d3f83",
   "metadata": {},
   "outputs": [],
   "source": [
    "df_initials_female = pd.DataFrame(female_names_in_alphabet)   "
   ]
  },
  {
   "cell_type": "code",
   "execution_count": 81,
   "id": "c49034e6",
   "metadata": {},
   "outputs": [
    {
     "data": {
      "text/html": [
       "<div>\n",
       "<style scoped>\n",
       "    .dataframe tbody tr th:only-of-type {\n",
       "        vertical-align: middle;\n",
       "    }\n",
       "\n",
       "    .dataframe tbody tr th {\n",
       "        vertical-align: top;\n",
       "    }\n",
       "\n",
       "    .dataframe thead th {\n",
       "        text-align: right;\n",
       "    }\n",
       "</style>\n",
       "<table border=\"1\" class=\"dataframe\">\n",
       "  <thead>\n",
       "    <tr style=\"text-align: right;\">\n",
       "      <th></th>\n",
       "      <th>Initials</th>\n",
       "      <th>quantity_female_names</th>\n",
       "    </tr>\n",
       "  </thead>\n",
       "  <tbody>\n",
       "    <tr>\n",
       "      <th>0</th>\n",
       "      <td>A</td>\n",
       "      <td>443</td>\n",
       "    </tr>\n",
       "    <tr>\n",
       "      <th>1</th>\n",
       "      <td>B</td>\n",
       "      <td>246</td>\n",
       "    </tr>\n",
       "    <tr>\n",
       "      <th>2</th>\n",
       "      <td>C</td>\n",
       "      <td>469</td>\n",
       "    </tr>\n",
       "    <tr>\n",
       "      <th>3</th>\n",
       "      <td>D</td>\n",
       "      <td>308</td>\n",
       "    </tr>\n",
       "    <tr>\n",
       "      <th>4</th>\n",
       "      <td>E</td>\n",
       "      <td>251</td>\n",
       "    </tr>\n",
       "    <tr>\n",
       "      <th>5</th>\n",
       "      <td>F</td>\n",
       "      <td>144</td>\n",
       "    </tr>\n",
       "    <tr>\n",
       "      <th>6</th>\n",
       "      <td>G</td>\n",
       "      <td>213</td>\n",
       "    </tr>\n",
       "    <tr>\n",
       "      <th>7</th>\n",
       "      <td>H</td>\n",
       "      <td>124</td>\n",
       "    </tr>\n",
       "    <tr>\n",
       "      <th>8</th>\n",
       "      <td>I</td>\n",
       "      <td>83</td>\n",
       "    </tr>\n",
       "    <tr>\n",
       "      <th>9</th>\n",
       "      <td>J</td>\n",
       "      <td>293</td>\n",
       "    </tr>\n",
       "    <tr>\n",
       "      <th>10</th>\n",
       "      <td>K</td>\n",
       "      <td>276</td>\n",
       "    </tr>\n",
       "    <tr>\n",
       "      <th>11</th>\n",
       "      <td>L</td>\n",
       "      <td>332</td>\n",
       "    </tr>\n",
       "    <tr>\n",
       "      <th>12</th>\n",
       "      <td>M</td>\n",
       "      <td>484</td>\n",
       "    </tr>\n",
       "    <tr>\n",
       "      <th>13</th>\n",
       "      <td>N</td>\n",
       "      <td>158</td>\n",
       "    </tr>\n",
       "    <tr>\n",
       "      <th>14</th>\n",
       "      <td>O</td>\n",
       "      <td>66</td>\n",
       "    </tr>\n",
       "    <tr>\n",
       "      <th>15</th>\n",
       "      <td>P</td>\n",
       "      <td>121</td>\n",
       "    </tr>\n",
       "    <tr>\n",
       "      <th>16</th>\n",
       "      <td>Q</td>\n",
       "      <td>9</td>\n",
       "    </tr>\n",
       "    <tr>\n",
       "      <th>17</th>\n",
       "      <td>R</td>\n",
       "      <td>247</td>\n",
       "    </tr>\n",
       "    <tr>\n",
       "      <th>18</th>\n",
       "      <td>S</td>\n",
       "      <td>309</td>\n",
       "    </tr>\n",
       "    <tr>\n",
       "      <th>19</th>\n",
       "      <td>T</td>\n",
       "      <td>198</td>\n",
       "    </tr>\n",
       "    <tr>\n",
       "      <th>20</th>\n",
       "      <td>U</td>\n",
       "      <td>14</td>\n",
       "    </tr>\n",
       "    <tr>\n",
       "      <th>21</th>\n",
       "      <td>V</td>\n",
       "      <td>105</td>\n",
       "    </tr>\n",
       "    <tr>\n",
       "      <th>22</th>\n",
       "      <td>W</td>\n",
       "      <td>54</td>\n",
       "    </tr>\n",
       "    <tr>\n",
       "      <th>23</th>\n",
       "      <td>X</td>\n",
       "      <td>5</td>\n",
       "    </tr>\n",
       "    <tr>\n",
       "      <th>24</th>\n",
       "      <td>Y</td>\n",
       "      <td>18</td>\n",
       "    </tr>\n",
       "    <tr>\n",
       "      <th>25</th>\n",
       "      <td>Z</td>\n",
       "      <td>31</td>\n",
       "    </tr>\n",
       "  </tbody>\n",
       "</table>\n",
       "</div>"
      ],
      "text/plain": [
       "   Initials  quantity_female_names\n",
       "0         A                    443\n",
       "1         B                    246\n",
       "2         C                    469\n",
       "3         D                    308\n",
       "4         E                    251\n",
       "5         F                    144\n",
       "6         G                    213\n",
       "7         H                    124\n",
       "8         I                     83\n",
       "9         J                    293\n",
       "10        K                    276\n",
       "11        L                    332\n",
       "12        M                    484\n",
       "13        N                    158\n",
       "14        O                     66\n",
       "15        P                    121\n",
       "16        Q                      9\n",
       "17        R                    247\n",
       "18        S                    309\n",
       "19        T                    198\n",
       "20        U                     14\n",
       "21        V                    105\n",
       "22        W                     54\n",
       "23        X                      5\n",
       "24        Y                     18\n",
       "25        Z                     31"
      ]
     },
     "execution_count": 81,
     "metadata": {},
     "output_type": "execute_result"
    }
   ],
   "source": [
    "df_initials_female"
   ]
  },
  {
   "cell_type": "markdown",
   "id": "14beb8ec",
   "metadata": {},
   "source": [
    "Preparing data for the visualization:"
   ]
  },
  {
   "cell_type": "code",
   "execution_count": 82,
   "id": "757c1fa9",
   "metadata": {},
   "outputs": [],
   "source": [
    "initials_female = df_initials_female.Initials"
   ]
  },
  {
   "cell_type": "code",
   "execution_count": 83,
   "id": "a1860993",
   "metadata": {},
   "outputs": [],
   "source": [
    "quantity_initials_female = df_initials_female.quantity_female_names"
   ]
  },
  {
   "cell_type": "markdown",
   "id": "4893e7fd",
   "metadata": {},
   "source": [
    "Checking the sum of all female names after the transition of data, must be 5001:"
   ]
  },
  {
   "cell_type": "code",
   "execution_count": 84,
   "id": "bd31941b",
   "metadata": {},
   "outputs": [
    {
     "data": {
      "text/plain": [
       "5001"
      ]
     },
     "execution_count": 84,
     "metadata": {},
     "output_type": "execute_result"
    }
   ],
   "source": [
    "quantity_initials_female.sum()"
   ]
  },
  {
   "cell_type": "markdown",
   "id": "3ef4e3f0",
   "metadata": {},
   "source": [
    "Check, check, always check! Data can be so tricky!"
   ]
  },
  {
   "cell_type": "code",
   "execution_count": 85,
   "id": "58a8b0f2",
   "metadata": {},
   "outputs": [
    {
     "data": {
      "image/png": "[encoded data removed]",
      "text/plain": [
       "<Figure size 640x480 with 1 Axes>"
      ]
     },
     "metadata": {},
     "output_type": "display_data"
    }
   ],
   "source": [
    "fig, ax = plt.subplots()\n",
    "\n",
    "ax.bar(initials_female, quantity_initials_female, width = 0.5, color = \"palevioletred\")\n",
    "ax.set_ylim(0, 500)\n",
    "\n",
    "ax.spines['bottom'].set_color(\"ghostwhite\")\n",
    "ax.spines['top'].set_color(\"ghostwhite\") \n",
    "ax.spines['right'].set_color(\"cadetblue\")\n",
    "ax.spines['left'].set_color(\"cadetblue\")\n",
    "\n",
    "ax.set_ylabel(\"Quantity of female names\", size = 9)\n",
    "ax.set_title(\"Quantity of female names accordingly to their Initials\", size = 10, pad = 10)\n",
    "\n",
    "plt.show()"
   ]
  },
  {
   "cell_type": "markdown",
   "id": "f216826d",
   "metadata": {},
   "source": [
    "We have near doubled the female names. Most initials $M$, least - again the $X$."
   ]
  },
  {
   "cell_type": "code",
   "execution_count": 86,
   "id": "d0e14ef5",
   "metadata": {},
   "outputs": [
    {
     "data": {
      "text/plain": [
       "[5, 484]"
      ]
     },
     "execution_count": 86,
     "metadata": {},
     "output_type": "execute_result"
    }
   ],
   "source": [
    "[quantity_initials_female.min(), quantity_initials_female.max()]         # checking again the y-axis "
   ]
  },
  {
   "cell_type": "markdown",
   "id": "42173ced",
   "metadata": {},
   "source": [
    "I suggest to explore the $Q$, the $U$ and the $X$ letters."
   ]
  },
  {
   "cell_type": "code",
   "execution_count": 87,
   "id": "6f816f64",
   "metadata": {},
   "outputs": [
    {
     "data": {
      "text/plain": [
       "Initials                 Q\n",
       "quantity_female_names    9\n",
       "Name: 16, dtype: object"
      ]
     },
     "execution_count": 87,
     "metadata": {},
     "output_type": "execute_result"
    }
   ],
   "source": [
    "df_initials_female.loc[16]"
   ]
  },
  {
   "cell_type": "markdown",
   "id": "0225d427",
   "metadata": {},
   "source": [
    "I go to the regex line $Q$, remove .shape and see the positions in the main dataframe."
   ]
  },
  {
   "cell_type": "code",
   "execution_count": 88,
   "id": "e5ee84e9",
   "metadata": {},
   "outputs": [
    {
     "data": {
      "text/plain": [
       "(9, 1)"
      ]
     },
     "execution_count": 88,
     "metadata": {},
     "output_type": "execute_result"
    }
   ],
   "source": [
    "df_female_names[4011:4019 + 1].shape"
   ]
  },
  {
   "cell_type": "markdown",
   "id": "9d6aaf27",
   "metadata": {},
   "source": [
    "Be careful which datafarme you use and if the shape is correct!"
   ]
  },
  {
   "cell_type": "code",
   "execution_count": 89,
   "id": "378ef916",
   "metadata": {},
   "outputs": [
    {
     "data": {
      "text/html": [
       "<div>\n",
       "<style scoped>\n",
       "    .dataframe tbody tr th:only-of-type {\n",
       "        vertical-align: middle;\n",
       "    }\n",
       "\n",
       "    .dataframe tbody tr th {\n",
       "        vertical-align: top;\n",
       "    }\n",
       "\n",
       "    .dataframe thead th {\n",
       "        text-align: right;\n",
       "    }\n",
       "</style>\n",
       "<table border=\"1\" class=\"dataframe\">\n",
       "  <thead>\n",
       "    <tr style=\"text-align: right;\">\n",
       "      <th></th>\n",
       "      <th>names_fm</th>\n",
       "    </tr>\n",
       "  </thead>\n",
       "  <tbody>\n",
       "    <tr>\n",
       "      <th>4011</th>\n",
       "      <td>Queada</td>\n",
       "    </tr>\n",
       "    <tr>\n",
       "      <th>4012</th>\n",
       "      <td>Queenie</td>\n",
       "    </tr>\n",
       "    <tr>\n",
       "      <th>4013</th>\n",
       "      <td>Quentin</td>\n",
       "    </tr>\n",
       "    <tr>\n",
       "      <th>4014</th>\n",
       "      <td>Querida</td>\n",
       "    </tr>\n",
       "    <tr>\n",
       "      <th>4015</th>\n",
       "      <td>Quinn</td>\n",
       "    </tr>\n",
       "    <tr>\n",
       "      <th>4016</th>\n",
       "      <td>Quinta</td>\n",
       "    </tr>\n",
       "    <tr>\n",
       "      <th>4017</th>\n",
       "      <td>Quintana</td>\n",
       "    </tr>\n",
       "    <tr>\n",
       "      <th>4018</th>\n",
       "      <td>Quintilla</td>\n",
       "    </tr>\n",
       "    <tr>\n",
       "      <th>4019</th>\n",
       "      <td>Quintina</td>\n",
       "    </tr>\n",
       "  </tbody>\n",
       "</table>\n",
       "</div>"
      ],
      "text/plain": [
       "       names_fm\n",
       "4011     Queada\n",
       "4012    Queenie\n",
       "4013    Quentin\n",
       "4014    Querida\n",
       "4015      Quinn\n",
       "4016     Quinta\n",
       "4017   Quintana\n",
       "4018  Quintilla\n",
       "4019   Quintina"
      ]
     },
     "execution_count": 89,
     "metadata": {},
     "output_type": "execute_result"
    }
   ],
   "source": [
    "df_female_names[4011:4019 + 1]"
   ]
  },
  {
   "cell_type": "markdown",
   "id": "84073afa",
   "metadata": {},
   "source": [
    "What do you think? Queenie sounds pleasant! Queenie."
   ]
  },
  {
   "cell_type": "code",
   "execution_count": 90,
   "id": "99ad1b46",
   "metadata": {},
   "outputs": [
    {
     "data": {
      "text/plain": [
       "Initials                  U\n",
       "quantity_female_names    14\n",
       "Name: 20, dtype: object"
      ]
     },
     "execution_count": 90,
     "metadata": {},
     "output_type": "execute_result"
    }
   ],
   "source": [
    "df_initials_female.loc[20]"
   ]
  },
  {
   "cell_type": "code",
   "execution_count": 91,
   "id": "e5387c42",
   "metadata": {},
   "outputs": [
    {
     "data": {
      "text/plain": [
       "(14, 1)"
      ]
     },
     "execution_count": 91,
     "metadata": {},
     "output_type": "execute_result"
    }
   ],
   "source": [
    "df_female_names[4774:4787 + 1].shape         # shape correct"
   ]
  },
  {
   "cell_type": "code",
   "execution_count": 92,
   "id": "e052c79b",
   "metadata": {},
   "outputs": [
    {
     "data": {
      "text/html": [
       "<div>\n",
       "<style scoped>\n",
       "    .dataframe tbody tr th:only-of-type {\n",
       "        vertical-align: middle;\n",
       "    }\n",
       "\n",
       "    .dataframe tbody tr th {\n",
       "        vertical-align: top;\n",
       "    }\n",
       "\n",
       "    .dataframe thead th {\n",
       "        text-align: right;\n",
       "    }\n",
       "</style>\n",
       "<table border=\"1\" class=\"dataframe\">\n",
       "  <thead>\n",
       "    <tr style=\"text-align: right;\">\n",
       "      <th></th>\n",
       "      <th>names_fm</th>\n",
       "    </tr>\n",
       "  </thead>\n",
       "  <tbody>\n",
       "    <tr>\n",
       "      <th>4774</th>\n",
       "      <td>Ula</td>\n",
       "    </tr>\n",
       "    <tr>\n",
       "      <th>4775</th>\n",
       "      <td>Ulla</td>\n",
       "    </tr>\n",
       "    <tr>\n",
       "      <th>4776</th>\n",
       "      <td>Ulrica</td>\n",
       "    </tr>\n",
       "    <tr>\n",
       "      <th>4777</th>\n",
       "      <td>Ulrika</td>\n",
       "    </tr>\n",
       "    <tr>\n",
       "      <th>4778</th>\n",
       "      <td>Ulrike</td>\n",
       "    </tr>\n",
       "    <tr>\n",
       "      <th>4779</th>\n",
       "      <td>Umeko</td>\n",
       "    </tr>\n",
       "    <tr>\n",
       "      <th>4780</th>\n",
       "      <td>Una</td>\n",
       "    </tr>\n",
       "    <tr>\n",
       "      <th>4781</th>\n",
       "      <td>Ursa</td>\n",
       "    </tr>\n",
       "    <tr>\n",
       "      <th>4782</th>\n",
       "      <td>Ursala</td>\n",
       "    </tr>\n",
       "    <tr>\n",
       "      <th>4783</th>\n",
       "      <td>Ursola</td>\n",
       "    </tr>\n",
       "    <tr>\n",
       "      <th>4784</th>\n",
       "      <td>Ursula</td>\n",
       "    </tr>\n",
       "    <tr>\n",
       "      <th>4785</th>\n",
       "      <td>Ursulina</td>\n",
       "    </tr>\n",
       "    <tr>\n",
       "      <th>4786</th>\n",
       "      <td>Ursuline</td>\n",
       "    </tr>\n",
       "    <tr>\n",
       "      <th>4787</th>\n",
       "      <td>Uta</td>\n",
       "    </tr>\n",
       "  </tbody>\n",
       "</table>\n",
       "</div>"
      ],
      "text/plain": [
       "      names_fm\n",
       "4774       Ula\n",
       "4775      Ulla\n",
       "4776    Ulrica\n",
       "4777    Ulrika\n",
       "4778    Ulrike\n",
       "4779     Umeko\n",
       "4780       Una\n",
       "4781      Ursa\n",
       "4782    Ursala\n",
       "4783    Ursola\n",
       "4784    Ursula\n",
       "4785  Ursulina\n",
       "4786  Ursuline\n",
       "4787       Uta"
      ]
     },
     "execution_count": 92,
     "metadata": {},
     "output_type": "execute_result"
    }
   ],
   "source": [
    "df_female_names[4774:4787 + 1]"
   ]
  },
  {
   "cell_type": "markdown",
   "id": "34df6181",
   "metadata": {},
   "source": [
    "Female names beginning with $Q$ sound Hispanic and American or latino-americano, conversely, the $U$-names sound German-like."
   ]
  },
  {
   "cell_type": "code",
   "execution_count": 93,
   "id": "45c9c3cc",
   "metadata": {},
   "outputs": [
    {
     "data": {
      "text/plain": [
       "Initials                 X\n",
       "quantity_female_names    5\n",
       "Name: 23, dtype: object"
      ]
     },
     "execution_count": 93,
     "metadata": {},
     "output_type": "execute_result"
    }
   ],
   "source": [
    "df_initials_female.loc[23]"
   ]
  },
  {
   "cell_type": "code",
   "execution_count": 94,
   "id": "4210afcd",
   "metadata": {},
   "outputs": [
    {
     "data": {
      "text/plain": [
       "(5, 1)"
      ]
     },
     "execution_count": 94,
     "metadata": {},
     "output_type": "execute_result"
    }
   ],
   "source": [
    "df_female_names[4947:4951 + 1].shape  "
   ]
  },
  {
   "cell_type": "code",
   "execution_count": 95,
   "id": "5b1dc22c",
   "metadata": {},
   "outputs": [
    {
     "data": {
      "text/html": [
       "<div>\n",
       "<style scoped>\n",
       "    .dataframe tbody tr th:only-of-type {\n",
       "        vertical-align: middle;\n",
       "    }\n",
       "\n",
       "    .dataframe tbody tr th {\n",
       "        vertical-align: top;\n",
       "    }\n",
       "\n",
       "    .dataframe thead th {\n",
       "        text-align: right;\n",
       "    }\n",
       "</style>\n",
       "<table border=\"1\" class=\"dataframe\">\n",
       "  <thead>\n",
       "    <tr style=\"text-align: right;\">\n",
       "      <th></th>\n",
       "      <th>names_fm</th>\n",
       "    </tr>\n",
       "  </thead>\n",
       "  <tbody>\n",
       "    <tr>\n",
       "      <th>4947</th>\n",
       "      <td>Xaviera</td>\n",
       "    </tr>\n",
       "    <tr>\n",
       "      <th>4948</th>\n",
       "      <td>Xena</td>\n",
       "    </tr>\n",
       "    <tr>\n",
       "      <th>4949</th>\n",
       "      <td>Xenia</td>\n",
       "    </tr>\n",
       "    <tr>\n",
       "      <th>4950</th>\n",
       "      <td>Xylia</td>\n",
       "    </tr>\n",
       "    <tr>\n",
       "      <th>4951</th>\n",
       "      <td>Xylina</td>\n",
       "    </tr>\n",
       "  </tbody>\n",
       "</table>\n",
       "</div>"
      ],
      "text/plain": [
       "     names_fm\n",
       "4947  Xaviera\n",
       "4948     Xena\n",
       "4949    Xenia\n",
       "4950    Xylia\n",
       "4951   Xylina"
      ]
     },
     "execution_count": 95,
     "metadata": {},
     "output_type": "execute_result"
    }
   ],
   "source": [
    "df_female_names[4947:4951 + 1]"
   ]
  },
  {
   "cell_type": "markdown",
   "id": "b7ff5710",
   "metadata": {},
   "source": [
    "Above, the female names beginning with the $X$: I have always liked Xenia, sounds really heroic!"
   ]
  },
  {
   "cell_type": "code",
   "execution_count": 96,
   "id": "7b10bf0e",
   "metadata": {},
   "outputs": [
    {
     "data": {
      "text/plain": [
       "Initial                X\n",
       "quantity_male_names    7\n",
       "Name: 23, dtype: object"
      ]
     },
     "execution_count": 96,
     "metadata": {},
     "output_type": "execute_result"
    }
   ],
   "source": [
    "df_initials_male.loc[23]"
   ]
  },
  {
   "cell_type": "markdown",
   "id": "c2217738",
   "metadata": {},
   "source": [
    "Compared to the male $X$-names:"
   ]
  },
  {
   "cell_type": "code",
   "execution_count": 97,
   "id": "0cfdb0f5",
   "metadata": {},
   "outputs": [
    {
     "data": {
      "text/html": [
       "<div>\n",
       "<style scoped>\n",
       "    .dataframe tbody tr th:only-of-type {\n",
       "        vertical-align: middle;\n",
       "    }\n",
       "\n",
       "    .dataframe tbody tr th {\n",
       "        vertical-align: top;\n",
       "    }\n",
       "\n",
       "    .dataframe thead th {\n",
       "        text-align: right;\n",
       "    }\n",
       "</style>\n",
       "<table border=\"1\" class=\"dataframe\">\n",
       "  <thead>\n",
       "    <tr style=\"text-align: right;\">\n",
       "      <th></th>\n",
       "      <th>names_m</th>\n",
       "    </tr>\n",
       "  </thead>\n",
       "  <tbody>\n",
       "    <tr>\n",
       "      <th>2889</th>\n",
       "      <td>Xavier</td>\n",
       "    </tr>\n",
       "    <tr>\n",
       "      <th>2890</th>\n",
       "      <td>Xenos</td>\n",
       "    </tr>\n",
       "    <tr>\n",
       "      <th>2891</th>\n",
       "      <td>Xerxes</td>\n",
       "    </tr>\n",
       "    <tr>\n",
       "      <th>2892</th>\n",
       "      <td>Xever</td>\n",
       "    </tr>\n",
       "    <tr>\n",
       "      <th>2893</th>\n",
       "      <td>Ximenes</td>\n",
       "    </tr>\n",
       "    <tr>\n",
       "      <th>2894</th>\n",
       "      <td>Ximenez</td>\n",
       "    </tr>\n",
       "    <tr>\n",
       "      <th>2895</th>\n",
       "      <td>Xymenes</td>\n",
       "    </tr>\n",
       "  </tbody>\n",
       "</table>\n",
       "</div>"
      ],
      "text/plain": [
       "      names_m\n",
       "2889   Xavier\n",
       "2890    Xenos\n",
       "2891   Xerxes\n",
       "2892    Xever\n",
       "2893  Ximenes\n",
       "2894  Ximenez\n",
       "2895  Xymenes"
      ]
     },
     "execution_count": 97,
     "metadata": {},
     "output_type": "execute_result"
    }
   ],
   "source": [
    "df_male_names[2889:2895 + 1]"
   ]
  },
  {
   "cell_type": "markdown",
   "id": "43898b4a",
   "metadata": {},
   "source": [
    "Xenos - Xena - Xenia... totally Greek!"
   ]
  },
  {
   "cell_type": "markdown",
   "id": "bd91d712",
   "metadata": {},
   "source": [
    "##### What is your name?\n",
    "<br />\n",
    "<br />\n",
    "<br />\n",
    "<br />"
   ]
  },
  {
   "cell_type": "markdown",
   "id": "21ca69b6",
   "metadata": {},
   "source": [
    "________________________________________________________________________________________________________________________________"
   ]
  },
  {
   "cell_type": "markdown",
   "id": "91196f96",
   "metadata": {},
   "source": [
    "References:\n",
    "1. Data is from Kaggle Database:\n",
    "- Names Corpus, Version 1.3 (1994-03-29)\n",
    "Copyright (c) January 1991 by Mark Kantrowitz, Additions by Bill Ross\n",
    "2. Peter Schumer, professor of Mathematics and Natural Philosophy at Middlebury College:\n",
    "- https://www.scientificamerican.com/article/mysterious-origins-of-x-in-algebra/"
   ]
  }
 ],
 "metadata": {
  "kernelspec": {
   "display_name": "Python 3 (ipykernel)",
   "language": "python",
   "name": "python3"
  },
  "language_info": {
   "codemirror_mode": {
    "name": "ipython",
    "version": 3
   },
   "file_extension": ".py",
   "mimetype": "text/x-python",
   "name": "python",
   "nbconvert_exporter": "python",
   "pygments_lexer": "ipython3",
   "version": "3.9.13"
  }
 },
 "nbformat": 4,
 "nbformat_minor": 5
}
